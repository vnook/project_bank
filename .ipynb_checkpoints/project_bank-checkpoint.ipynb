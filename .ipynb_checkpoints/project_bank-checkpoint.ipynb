{
 "cells": [
  {
   "cell_type": "markdown",
   "metadata": {
    "toc": true
   },
   "source": [
    "<h1>Содержание<span class=\"tocSkip\"></span></h1>\n",
    "<div class=\"toc\"><ul class=\"toc-item\"><li><span><a href=\"#Подготовка-данных\" data-toc-modified-id=\"Подготовка-данных-1\"><span class=\"toc-item-num\">1&nbsp;&nbsp;</span>Подготовка данных</a></span></li><li><span><a href=\"#Исследование-задачи\" data-toc-modified-id=\"Исследование-задачи-2\"><span class=\"toc-item-num\">2&nbsp;&nbsp;</span>Исследование задачи</a></span></li><li><span><a href=\"#Борьба-с-дисбалансом\" data-toc-modified-id=\"Борьба-с-дисбалансом-3\"><span class=\"toc-item-num\">3&nbsp;&nbsp;</span>Борьба с дисбалансом</a></span><ul class=\"toc-item\"><li><span><a href=\"#Борьба-с-дисбалансом-методом-&quot;Взвешивание-классов&quot;\" data-toc-modified-id=\"Борьба-с-дисбалансом-методом-&quot;Взвешивание-классов&quot;-3.1\"><span class=\"toc-item-num\">3.1&nbsp;&nbsp;</span>Борьба с дисбалансом методом \"Взвешивание классов\"</a></span></li><li><span><a href=\"#Борьба-с-дисбалансом-методом-&quot;upsampling&quot;\" data-toc-modified-id=\"Борьба-с-дисбалансом-методом-&quot;upsampling&quot;-3.2\"><span class=\"toc-item-num\">3.2&nbsp;&nbsp;</span>Борьба с дисбалансом методом \"upsampling\"</a></span></li></ul></li><li><span><a href=\"#Тестирование-модели\" data-toc-modified-id=\"Тестирование-модели-4\"><span class=\"toc-item-num\">4&nbsp;&nbsp;</span>Тестирование модели</a></span></li><li><span><a href=\"#Чек-лист-готовности-проекта\" data-toc-modified-id=\"Чек-лист-готовности-проекта-5\"><span class=\"toc-item-num\">5&nbsp;&nbsp;</span>Чек-лист готовности проекта</a></span></li></ul></div>"
   ]
  },
  {
   "cell_type": "markdown",
   "metadata": {},
   "source": [
    "# Отток клиентов"
   ]
  },
  {
   "cell_type": "markdown",
   "metadata": {},
   "source": [
    "Из «Бета-Банка» стали уходить клиенты. Каждый месяц. Немного, но заметно. Банковские маркетологи посчитали: сохранять текущих клиентов дешевле, чем привлекать новых.\n",
    "\n",
    "Нужно спрогнозировать, уйдёт клиент из банка в ближайшее время или нет. Вам предоставлены исторические данные о поведении клиентов и расторжении договоров с банком. \n",
    "\n",
    "Постройте модель с предельно большим значением *F1*-меры. Чтобы сдать проект успешно, нужно довести метрику до 0.59. Проверьте *F1*-меру на тестовой выборке самостоятельно.\n",
    "\n",
    "Дополнительно измеряйте *AUC-ROC*, сравнивайте её значение с *F1*-мерой.\n",
    "\n",
    "Источник данных: [https://www.kaggle.com/barelydedicated/bank-customer-churn-modeling](https://www.kaggle.com/barelydedicated/bank-customer-churn-modeling)"
   ]
  },
  {
   "cell_type": "markdown",
   "metadata": {},
   "source": [
    "## Подготовка данных"
   ]
  },
  {
   "cell_type": "code",
   "execution_count": 1,
   "metadata": {},
   "outputs": [],
   "source": [
    "# импортируем библиотеки\n",
    "import pandas as pd\n",
    "from sklearn.model_selection import train_test_split\n",
    "from sklearn.tree import DecisionTreeClassifier\n",
    "from sklearn.ensemble import RandomForestClassifier\n",
    "from sklearn.linear_model import LogisticRegression\n",
    "from sklearn.metrics import f1_score\n",
    "from sklearn.preprocessing import StandardScaler\n",
    "from sklearn.metrics import roc_auc_score\n",
    "from sklearn.utils import shuffle\n",
    "import matplotlib.pyplot as plt\n",
    "\n",
    "from sklearn.metrics import confusion_matrix, ConfusionMatrixDisplay\n",
    "from sklearn.model_selection import train_test_split\n",
    "from sklearn.svm import SVC"
   ]
  },
  {
   "cell_type": "code",
   "execution_count": 2,
   "metadata": {},
   "outputs": [
    {
     "data": {
      "text/html": [
       "<div>\n",
       "<style scoped>\n",
       "    .dataframe tbody tr th:only-of-type {\n",
       "        vertical-align: middle;\n",
       "    }\n",
       "\n",
       "    .dataframe tbody tr th {\n",
       "        vertical-align: top;\n",
       "    }\n",
       "\n",
       "    .dataframe thead th {\n",
       "        text-align: right;\n",
       "    }\n",
       "</style>\n",
       "<table border=\"1\" class=\"dataframe\">\n",
       "  <thead>\n",
       "    <tr style=\"text-align: right;\">\n",
       "      <th></th>\n",
       "      <th>RowNumber</th>\n",
       "      <th>CustomerId</th>\n",
       "      <th>Surname</th>\n",
       "      <th>CreditScore</th>\n",
       "      <th>Geography</th>\n",
       "      <th>Gender</th>\n",
       "      <th>Age</th>\n",
       "      <th>Tenure</th>\n",
       "      <th>Balance</th>\n",
       "      <th>NumOfProducts</th>\n",
       "      <th>HasCrCard</th>\n",
       "      <th>IsActiveMember</th>\n",
       "      <th>EstimatedSalary</th>\n",
       "      <th>Exited</th>\n",
       "    </tr>\n",
       "  </thead>\n",
       "  <tbody>\n",
       "    <tr>\n",
       "      <th>0</th>\n",
       "      <td>1</td>\n",
       "      <td>15634602</td>\n",
       "      <td>Hargrave</td>\n",
       "      <td>619</td>\n",
       "      <td>France</td>\n",
       "      <td>Female</td>\n",
       "      <td>42</td>\n",
       "      <td>2.0</td>\n",
       "      <td>0.00</td>\n",
       "      <td>1</td>\n",
       "      <td>1</td>\n",
       "      <td>1</td>\n",
       "      <td>101348.88</td>\n",
       "      <td>1</td>\n",
       "    </tr>\n",
       "    <tr>\n",
       "      <th>1</th>\n",
       "      <td>2</td>\n",
       "      <td>15647311</td>\n",
       "      <td>Hill</td>\n",
       "      <td>608</td>\n",
       "      <td>Spain</td>\n",
       "      <td>Female</td>\n",
       "      <td>41</td>\n",
       "      <td>1.0</td>\n",
       "      <td>83807.86</td>\n",
       "      <td>1</td>\n",
       "      <td>0</td>\n",
       "      <td>1</td>\n",
       "      <td>112542.58</td>\n",
       "      <td>0</td>\n",
       "    </tr>\n",
       "    <tr>\n",
       "      <th>2</th>\n",
       "      <td>3</td>\n",
       "      <td>15619304</td>\n",
       "      <td>Onio</td>\n",
       "      <td>502</td>\n",
       "      <td>France</td>\n",
       "      <td>Female</td>\n",
       "      <td>42</td>\n",
       "      <td>8.0</td>\n",
       "      <td>159660.80</td>\n",
       "      <td>3</td>\n",
       "      <td>1</td>\n",
       "      <td>0</td>\n",
       "      <td>113931.57</td>\n",
       "      <td>1</td>\n",
       "    </tr>\n",
       "    <tr>\n",
       "      <th>3</th>\n",
       "      <td>4</td>\n",
       "      <td>15701354</td>\n",
       "      <td>Boni</td>\n",
       "      <td>699</td>\n",
       "      <td>France</td>\n",
       "      <td>Female</td>\n",
       "      <td>39</td>\n",
       "      <td>1.0</td>\n",
       "      <td>0.00</td>\n",
       "      <td>2</td>\n",
       "      <td>0</td>\n",
       "      <td>0</td>\n",
       "      <td>93826.63</td>\n",
       "      <td>0</td>\n",
       "    </tr>\n",
       "    <tr>\n",
       "      <th>4</th>\n",
       "      <td>5</td>\n",
       "      <td>15737888</td>\n",
       "      <td>Mitchell</td>\n",
       "      <td>850</td>\n",
       "      <td>Spain</td>\n",
       "      <td>Female</td>\n",
       "      <td>43</td>\n",
       "      <td>2.0</td>\n",
       "      <td>125510.82</td>\n",
       "      <td>1</td>\n",
       "      <td>1</td>\n",
       "      <td>1</td>\n",
       "      <td>79084.10</td>\n",
       "      <td>0</td>\n",
       "    </tr>\n",
       "  </tbody>\n",
       "</table>\n",
       "</div>"
      ],
      "text/plain": [
       "   RowNumber  CustomerId   Surname  CreditScore Geography  Gender  Age  \\\n",
       "0          1    15634602  Hargrave          619    France  Female   42   \n",
       "1          2    15647311      Hill          608     Spain  Female   41   \n",
       "2          3    15619304      Onio          502    France  Female   42   \n",
       "3          4    15701354      Boni          699    France  Female   39   \n",
       "4          5    15737888  Mitchell          850     Spain  Female   43   \n",
       "\n",
       "   Tenure    Balance  NumOfProducts  HasCrCard  IsActiveMember  \\\n",
       "0     2.0       0.00              1          1               1   \n",
       "1     1.0   83807.86              1          0               1   \n",
       "2     8.0  159660.80              3          1               0   \n",
       "3     1.0       0.00              2          0               0   \n",
       "4     2.0  125510.82              1          1               1   \n",
       "\n",
       "   EstimatedSalary  Exited  \n",
       "0        101348.88       1  \n",
       "1        112542.58       0  \n",
       "2        113931.57       1  \n",
       "3         93826.63       0  \n",
       "4         79084.10       0  "
      ]
     },
     "metadata": {},
     "output_type": "display_data"
    }
   ],
   "source": [
    "# прочитаем данные из файла\n",
    "# и сохраним в переменной df\n",
    "try:\n",
    "    df = pd.read_csv('Churn.csv')\n",
    "except:\n",
    "    print('Проверь путь файла')\n",
    "# выведем первые 5 строк таблицы\n",
    "display(df.head())"
   ]
  },
  {
   "cell_type": "code",
   "execution_count": 3,
   "metadata": {},
   "outputs": [
    {
     "name": "stdout",
     "output_type": "stream",
     "text": [
      "<class 'pandas.core.frame.DataFrame'>\n",
      "RangeIndex: 10000 entries, 0 to 9999\n",
      "Data columns (total 14 columns):\n",
      " #   Column           Non-Null Count  Dtype  \n",
      "---  ------           --------------  -----  \n",
      " 0   RowNumber        10000 non-null  int64  \n",
      " 1   CustomerId       10000 non-null  int64  \n",
      " 2   Surname          10000 non-null  object \n",
      " 3   CreditScore      10000 non-null  int64  \n",
      " 4   Geography        10000 non-null  object \n",
      " 5   Gender           10000 non-null  object \n",
      " 6   Age              10000 non-null  int64  \n",
      " 7   Tenure           9091 non-null   float64\n",
      " 8   Balance          10000 non-null  float64\n",
      " 9   NumOfProducts    10000 non-null  int64  \n",
      " 10  HasCrCard        10000 non-null  int64  \n",
      " 11  IsActiveMember   10000 non-null  int64  \n",
      " 12  EstimatedSalary  10000 non-null  float64\n",
      " 13  Exited           10000 non-null  int64  \n",
      "dtypes: float64(3), int64(8), object(3)\n",
      "memory usage: 1.1+ MB\n"
     ]
    }
   ],
   "source": [
    "df.info() # выведем общую информацию методом info()"
   ]
  },
  {
   "cell_type": "markdown",
   "metadata": {},
   "source": [
    "**Признаки**\n",
    "\n",
    "RowNumber — индекс строки в данных\n",
    "\n",
    "CustomerId — уникальный идентификатор клиента\n",
    "\n",
    "Surname — фамилия\n",
    "\n",
    "CreditScore — кредитный рейтинг\n",
    "\n",
    "Geography — страна проживания\n",
    "\n",
    "Gender — пол\n",
    "\n",
    "Age — возраст\n",
    "\n",
    "Tenure — сколько лет человек является клиентом банка\n",
    "\n",
    "Balance — баланс на счёте\n",
    "\n",
    "NumOfProducts — количество продуктов банка, используемых клиентом\n",
    "\n",
    "HasCrCard — наличие кредитной карты\n",
    "\n",
    "IsActiveMember — активность клиента\n",
    "\n",
    "EstimatedSalary — предполагаемая зарплата\n",
    "\n",
    "**Целевой признак**\n",
    "\n",
    "Exited — факт ухода клиента"
   ]
  },
  {
   "cell_type": "code",
   "execution_count": 4,
   "metadata": {
    "scrolled": false
   },
   "outputs": [
    {
     "data": {
      "text/html": [
       "<div>\n",
       "<style scoped>\n",
       "    .dataframe tbody tr th:only-of-type {\n",
       "        vertical-align: middle;\n",
       "    }\n",
       "\n",
       "    .dataframe tbody tr th {\n",
       "        vertical-align: top;\n",
       "    }\n",
       "\n",
       "    .dataframe thead th {\n",
       "        text-align: right;\n",
       "    }\n",
       "</style>\n",
       "<table border=\"1\" class=\"dataframe\">\n",
       "  <thead>\n",
       "    <tr style=\"text-align: right;\">\n",
       "      <th></th>\n",
       "      <th>RowNumber</th>\n",
       "      <th>CustomerId</th>\n",
       "      <th>CreditScore</th>\n",
       "      <th>Age</th>\n",
       "      <th>Tenure</th>\n",
       "      <th>Balance</th>\n",
       "      <th>NumOfProducts</th>\n",
       "      <th>HasCrCard</th>\n",
       "      <th>IsActiveMember</th>\n",
       "      <th>EstimatedSalary</th>\n",
       "      <th>Exited</th>\n",
       "    </tr>\n",
       "  </thead>\n",
       "  <tbody>\n",
       "    <tr>\n",
       "      <th>count</th>\n",
       "      <td>10000.00000</td>\n",
       "      <td>1.000000e+04</td>\n",
       "      <td>10000.000000</td>\n",
       "      <td>10000.000000</td>\n",
       "      <td>9091.000000</td>\n",
       "      <td>10000.000000</td>\n",
       "      <td>10000.000000</td>\n",
       "      <td>10000.00000</td>\n",
       "      <td>10000.000000</td>\n",
       "      <td>10000.000000</td>\n",
       "      <td>10000.000000</td>\n",
       "    </tr>\n",
       "    <tr>\n",
       "      <th>mean</th>\n",
       "      <td>5000.50000</td>\n",
       "      <td>1.569094e+07</td>\n",
       "      <td>650.528800</td>\n",
       "      <td>38.921800</td>\n",
       "      <td>4.997690</td>\n",
       "      <td>76485.889288</td>\n",
       "      <td>1.530200</td>\n",
       "      <td>0.70550</td>\n",
       "      <td>0.515100</td>\n",
       "      <td>100090.239881</td>\n",
       "      <td>0.203700</td>\n",
       "    </tr>\n",
       "    <tr>\n",
       "      <th>std</th>\n",
       "      <td>2886.89568</td>\n",
       "      <td>7.193619e+04</td>\n",
       "      <td>96.653299</td>\n",
       "      <td>10.487806</td>\n",
       "      <td>2.894723</td>\n",
       "      <td>62397.405202</td>\n",
       "      <td>0.581654</td>\n",
       "      <td>0.45584</td>\n",
       "      <td>0.499797</td>\n",
       "      <td>57510.492818</td>\n",
       "      <td>0.402769</td>\n",
       "    </tr>\n",
       "    <tr>\n",
       "      <th>min</th>\n",
       "      <td>1.00000</td>\n",
       "      <td>1.556570e+07</td>\n",
       "      <td>350.000000</td>\n",
       "      <td>18.000000</td>\n",
       "      <td>0.000000</td>\n",
       "      <td>0.000000</td>\n",
       "      <td>1.000000</td>\n",
       "      <td>0.00000</td>\n",
       "      <td>0.000000</td>\n",
       "      <td>11.580000</td>\n",
       "      <td>0.000000</td>\n",
       "    </tr>\n",
       "    <tr>\n",
       "      <th>25%</th>\n",
       "      <td>2500.75000</td>\n",
       "      <td>1.562853e+07</td>\n",
       "      <td>584.000000</td>\n",
       "      <td>32.000000</td>\n",
       "      <td>2.000000</td>\n",
       "      <td>0.000000</td>\n",
       "      <td>1.000000</td>\n",
       "      <td>0.00000</td>\n",
       "      <td>0.000000</td>\n",
       "      <td>51002.110000</td>\n",
       "      <td>0.000000</td>\n",
       "    </tr>\n",
       "    <tr>\n",
       "      <th>50%</th>\n",
       "      <td>5000.50000</td>\n",
       "      <td>1.569074e+07</td>\n",
       "      <td>652.000000</td>\n",
       "      <td>37.000000</td>\n",
       "      <td>5.000000</td>\n",
       "      <td>97198.540000</td>\n",
       "      <td>1.000000</td>\n",
       "      <td>1.00000</td>\n",
       "      <td>1.000000</td>\n",
       "      <td>100193.915000</td>\n",
       "      <td>0.000000</td>\n",
       "    </tr>\n",
       "    <tr>\n",
       "      <th>75%</th>\n",
       "      <td>7500.25000</td>\n",
       "      <td>1.575323e+07</td>\n",
       "      <td>718.000000</td>\n",
       "      <td>44.000000</td>\n",
       "      <td>7.000000</td>\n",
       "      <td>127644.240000</td>\n",
       "      <td>2.000000</td>\n",
       "      <td>1.00000</td>\n",
       "      <td>1.000000</td>\n",
       "      <td>149388.247500</td>\n",
       "      <td>0.000000</td>\n",
       "    </tr>\n",
       "    <tr>\n",
       "      <th>max</th>\n",
       "      <td>10000.00000</td>\n",
       "      <td>1.581569e+07</td>\n",
       "      <td>850.000000</td>\n",
       "      <td>92.000000</td>\n",
       "      <td>10.000000</td>\n",
       "      <td>250898.090000</td>\n",
       "      <td>4.000000</td>\n",
       "      <td>1.00000</td>\n",
       "      <td>1.000000</td>\n",
       "      <td>199992.480000</td>\n",
       "      <td>1.000000</td>\n",
       "    </tr>\n",
       "  </tbody>\n",
       "</table>\n",
       "</div>"
      ],
      "text/plain": [
       "         RowNumber    CustomerId   CreditScore           Age       Tenure  \\\n",
       "count  10000.00000  1.000000e+04  10000.000000  10000.000000  9091.000000   \n",
       "mean    5000.50000  1.569094e+07    650.528800     38.921800     4.997690   \n",
       "std     2886.89568  7.193619e+04     96.653299     10.487806     2.894723   \n",
       "min        1.00000  1.556570e+07    350.000000     18.000000     0.000000   \n",
       "25%     2500.75000  1.562853e+07    584.000000     32.000000     2.000000   \n",
       "50%     5000.50000  1.569074e+07    652.000000     37.000000     5.000000   \n",
       "75%     7500.25000  1.575323e+07    718.000000     44.000000     7.000000   \n",
       "max    10000.00000  1.581569e+07    850.000000     92.000000    10.000000   \n",
       "\n",
       "             Balance  NumOfProducts    HasCrCard  IsActiveMember  \\\n",
       "count   10000.000000   10000.000000  10000.00000    10000.000000   \n",
       "mean    76485.889288       1.530200      0.70550        0.515100   \n",
       "std     62397.405202       0.581654      0.45584        0.499797   \n",
       "min         0.000000       1.000000      0.00000        0.000000   \n",
       "25%         0.000000       1.000000      0.00000        0.000000   \n",
       "50%     97198.540000       1.000000      1.00000        1.000000   \n",
       "75%    127644.240000       2.000000      1.00000        1.000000   \n",
       "max    250898.090000       4.000000      1.00000        1.000000   \n",
       "\n",
       "       EstimatedSalary        Exited  \n",
       "count     10000.000000  10000.000000  \n",
       "mean     100090.239881      0.203700  \n",
       "std       57510.492818      0.402769  \n",
       "min          11.580000      0.000000  \n",
       "25%       51002.110000      0.000000  \n",
       "50%      100193.915000      0.000000  \n",
       "75%      149388.247500      0.000000  \n",
       "max      199992.480000      1.000000  "
      ]
     },
     "execution_count": 4,
     "metadata": {},
     "output_type": "execute_result"
    }
   ],
   "source": [
    "# выведем характерные значения методом describe()\n",
    "df.describe() "
   ]
  },
  {
   "cell_type": "code",
   "execution_count": 5,
   "metadata": {
    "scrolled": true
   },
   "outputs": [
    {
     "data": {
      "text/plain": [
       "10000"
      ]
     },
     "execution_count": 5,
     "metadata": {},
     "output_type": "execute_result"
    }
   ],
   "source": [
    "# заменим пропуски в столбце Tenure на медиану с помощью метода fillna() и median()\n",
    "df['Tenure'] = df['Tenure'].fillna(df['Tenure'].median())\n",
    "# выполним проверку с помощью метода shape\n",
    "df['Tenure'].shape[0]"
   ]
  },
  {
   "cell_type": "code",
   "execution_count": 6,
   "metadata": {},
   "outputs": [
    {
     "name": "stdout",
     "output_type": "stream",
     "text": [
      "<class 'pandas.core.frame.DataFrame'>\n",
      "RangeIndex: 10000 entries, 0 to 9999\n",
      "Data columns (total 11 columns):\n",
      " #   Column           Non-Null Count  Dtype  \n",
      "---  ------           --------------  -----  \n",
      " 0   CreditScore      10000 non-null  int64  \n",
      " 1   Geography        10000 non-null  object \n",
      " 2   Gender           10000 non-null  object \n",
      " 3   Age              10000 non-null  int64  \n",
      " 4   Tenure           10000 non-null  float64\n",
      " 5   Balance          10000 non-null  float64\n",
      " 6   NumOfProducts    10000 non-null  int64  \n",
      " 7   HasCrCard        10000 non-null  int64  \n",
      " 8   IsActiveMember   10000 non-null  int64  \n",
      " 9   EstimatedSalary  10000 non-null  float64\n",
      " 10  Exited           10000 non-null  int64  \n",
      "dtypes: float64(3), int64(6), object(2)\n",
      "memory usage: 859.5+ KB\n"
     ]
    }
   ],
   "source": [
    "# удалим столбцы, которые не потребуются для обучения модели\n",
    "df = df.drop(['RowNumber', 'CustomerId', 'Surname'], axis=1)\n",
    "df.info()"
   ]
  },
  {
   "cell_type": "markdown",
   "metadata": {},
   "source": [
    "Преобразуем категориальные признаки в численные с помощью прямого кодирования техникой OHE."
   ]
  },
  {
   "cell_type": "code",
   "execution_count": 7,
   "metadata": {
    "scrolled": true
   },
   "outputs": [
    {
     "data": {
      "text/html": [
       "<div>\n",
       "<style scoped>\n",
       "    .dataframe tbody tr th:only-of-type {\n",
       "        vertical-align: middle;\n",
       "    }\n",
       "\n",
       "    .dataframe tbody tr th {\n",
       "        vertical-align: top;\n",
       "    }\n",
       "\n",
       "    .dataframe thead th {\n",
       "        text-align: right;\n",
       "    }\n",
       "</style>\n",
       "<table border=\"1\" class=\"dataframe\">\n",
       "  <thead>\n",
       "    <tr style=\"text-align: right;\">\n",
       "      <th></th>\n",
       "      <th>CreditScore</th>\n",
       "      <th>Gender</th>\n",
       "      <th>Age</th>\n",
       "      <th>Tenure</th>\n",
       "      <th>Balance</th>\n",
       "      <th>NumOfProducts</th>\n",
       "      <th>HasCrCard</th>\n",
       "      <th>IsActiveMember</th>\n",
       "      <th>EstimatedSalary</th>\n",
       "      <th>Exited</th>\n",
       "      <th>Geography_Germany</th>\n",
       "      <th>Geography_Spain</th>\n",
       "    </tr>\n",
       "  </thead>\n",
       "  <tbody>\n",
       "    <tr>\n",
       "      <th>0</th>\n",
       "      <td>619</td>\n",
       "      <td>0</td>\n",
       "      <td>42</td>\n",
       "      <td>2.0</td>\n",
       "      <td>0.00</td>\n",
       "      <td>1</td>\n",
       "      <td>1</td>\n",
       "      <td>1</td>\n",
       "      <td>101348.88</td>\n",
       "      <td>1</td>\n",
       "      <td>0</td>\n",
       "      <td>0</td>\n",
       "    </tr>\n",
       "    <tr>\n",
       "      <th>1</th>\n",
       "      <td>608</td>\n",
       "      <td>0</td>\n",
       "      <td>41</td>\n",
       "      <td>1.0</td>\n",
       "      <td>83807.86</td>\n",
       "      <td>1</td>\n",
       "      <td>0</td>\n",
       "      <td>1</td>\n",
       "      <td>112542.58</td>\n",
       "      <td>0</td>\n",
       "      <td>0</td>\n",
       "      <td>1</td>\n",
       "    </tr>\n",
       "    <tr>\n",
       "      <th>2</th>\n",
       "      <td>502</td>\n",
       "      <td>0</td>\n",
       "      <td>42</td>\n",
       "      <td>8.0</td>\n",
       "      <td>159660.80</td>\n",
       "      <td>3</td>\n",
       "      <td>1</td>\n",
       "      <td>0</td>\n",
       "      <td>113931.57</td>\n",
       "      <td>1</td>\n",
       "      <td>0</td>\n",
       "      <td>0</td>\n",
       "    </tr>\n",
       "    <tr>\n",
       "      <th>3</th>\n",
       "      <td>699</td>\n",
       "      <td>0</td>\n",
       "      <td>39</td>\n",
       "      <td>1.0</td>\n",
       "      <td>0.00</td>\n",
       "      <td>2</td>\n",
       "      <td>0</td>\n",
       "      <td>0</td>\n",
       "      <td>93826.63</td>\n",
       "      <td>0</td>\n",
       "      <td>0</td>\n",
       "      <td>0</td>\n",
       "    </tr>\n",
       "    <tr>\n",
       "      <th>4</th>\n",
       "      <td>850</td>\n",
       "      <td>0</td>\n",
       "      <td>43</td>\n",
       "      <td>2.0</td>\n",
       "      <td>125510.82</td>\n",
       "      <td>1</td>\n",
       "      <td>1</td>\n",
       "      <td>1</td>\n",
       "      <td>79084.10</td>\n",
       "      <td>0</td>\n",
       "      <td>0</td>\n",
       "      <td>1</td>\n",
       "    </tr>\n",
       "    <tr>\n",
       "      <th>...</th>\n",
       "      <td>...</td>\n",
       "      <td>...</td>\n",
       "      <td>...</td>\n",
       "      <td>...</td>\n",
       "      <td>...</td>\n",
       "      <td>...</td>\n",
       "      <td>...</td>\n",
       "      <td>...</td>\n",
       "      <td>...</td>\n",
       "      <td>...</td>\n",
       "      <td>...</td>\n",
       "      <td>...</td>\n",
       "    </tr>\n",
       "    <tr>\n",
       "      <th>9995</th>\n",
       "      <td>771</td>\n",
       "      <td>1</td>\n",
       "      <td>39</td>\n",
       "      <td>5.0</td>\n",
       "      <td>0.00</td>\n",
       "      <td>2</td>\n",
       "      <td>1</td>\n",
       "      <td>0</td>\n",
       "      <td>96270.64</td>\n",
       "      <td>0</td>\n",
       "      <td>0</td>\n",
       "      <td>0</td>\n",
       "    </tr>\n",
       "    <tr>\n",
       "      <th>9996</th>\n",
       "      <td>516</td>\n",
       "      <td>1</td>\n",
       "      <td>35</td>\n",
       "      <td>10.0</td>\n",
       "      <td>57369.61</td>\n",
       "      <td>1</td>\n",
       "      <td>1</td>\n",
       "      <td>1</td>\n",
       "      <td>101699.77</td>\n",
       "      <td>0</td>\n",
       "      <td>0</td>\n",
       "      <td>0</td>\n",
       "    </tr>\n",
       "    <tr>\n",
       "      <th>9997</th>\n",
       "      <td>709</td>\n",
       "      <td>0</td>\n",
       "      <td>36</td>\n",
       "      <td>7.0</td>\n",
       "      <td>0.00</td>\n",
       "      <td>1</td>\n",
       "      <td>0</td>\n",
       "      <td>1</td>\n",
       "      <td>42085.58</td>\n",
       "      <td>1</td>\n",
       "      <td>0</td>\n",
       "      <td>0</td>\n",
       "    </tr>\n",
       "    <tr>\n",
       "      <th>9998</th>\n",
       "      <td>772</td>\n",
       "      <td>1</td>\n",
       "      <td>42</td>\n",
       "      <td>3.0</td>\n",
       "      <td>75075.31</td>\n",
       "      <td>2</td>\n",
       "      <td>1</td>\n",
       "      <td>0</td>\n",
       "      <td>92888.52</td>\n",
       "      <td>1</td>\n",
       "      <td>1</td>\n",
       "      <td>0</td>\n",
       "    </tr>\n",
       "    <tr>\n",
       "      <th>9999</th>\n",
       "      <td>792</td>\n",
       "      <td>0</td>\n",
       "      <td>28</td>\n",
       "      <td>5.0</td>\n",
       "      <td>130142.79</td>\n",
       "      <td>1</td>\n",
       "      <td>1</td>\n",
       "      <td>0</td>\n",
       "      <td>38190.78</td>\n",
       "      <td>0</td>\n",
       "      <td>0</td>\n",
       "      <td>0</td>\n",
       "    </tr>\n",
       "  </tbody>\n",
       "</table>\n",
       "<p>10000 rows × 12 columns</p>\n",
       "</div>"
      ],
      "text/plain": [
       "      CreditScore  Gender  Age  Tenure    Balance  NumOfProducts  HasCrCard  \\\n",
       "0             619       0   42     2.0       0.00              1          1   \n",
       "1             608       0   41     1.0   83807.86              1          0   \n",
       "2             502       0   42     8.0  159660.80              3          1   \n",
       "3             699       0   39     1.0       0.00              2          0   \n",
       "4             850       0   43     2.0  125510.82              1          1   \n",
       "...           ...     ...  ...     ...        ...            ...        ...   \n",
       "9995          771       1   39     5.0       0.00              2          1   \n",
       "9996          516       1   35    10.0   57369.61              1          1   \n",
       "9997          709       0   36     7.0       0.00              1          0   \n",
       "9998          772       1   42     3.0   75075.31              2          1   \n",
       "9999          792       0   28     5.0  130142.79              1          1   \n",
       "\n",
       "      IsActiveMember  EstimatedSalary  Exited  Geography_Germany  \\\n",
       "0                  1        101348.88       1                  0   \n",
       "1                  1        112542.58       0                  0   \n",
       "2                  0        113931.57       1                  0   \n",
       "3                  0         93826.63       0                  0   \n",
       "4                  1         79084.10       0                  0   \n",
       "...              ...              ...     ...                ...   \n",
       "9995               0         96270.64       0                  0   \n",
       "9996               1        101699.77       0                  0   \n",
       "9997               1         42085.58       1                  0   \n",
       "9998               0         92888.52       1                  1   \n",
       "9999               0         38190.78       0                  0   \n",
       "\n",
       "      Geography_Spain  \n",
       "0                   0  \n",
       "1                   1  \n",
       "2                   0  \n",
       "3                   0  \n",
       "4                   1  \n",
       "...               ...  \n",
       "9995                0  \n",
       "9996                0  \n",
       "9997                0  \n",
       "9998                0  \n",
       "9999                0  \n",
       "\n",
       "[10000 rows x 12 columns]"
      ]
     },
     "metadata": {},
     "output_type": "display_data"
    }
   ],
   "source": [
    "# под кодирование попадают два столбца- Gender и Geography\n",
    "# в столбце Gender удалим первый столбец, чтобы избежать дамми-ловушки\n",
    "df['Gender'] = pd.get_dummies(df['Gender'], drop_first=True)\n",
    "# в столбце Geography удалять столбец не нужно, перезапишем данные в df\n",
    "df = pd.get_dummies(df, columns = ['Geography'], drop_first=True)\n",
    "display(df)"
   ]
  },
  {
   "cell_type": "markdown",
   "metadata": {},
   "source": [
    "Данные готовы к исследованию."
   ]
  },
  {
   "cell_type": "markdown",
   "metadata": {},
   "source": [
    "## Исследование задачи"
   ]
  },
  {
   "cell_type": "markdown",
   "metadata": {},
   "source": [
    "Спрятанной тестовой выборки нет. Значит, данные нужно разбить на три части: обучающую, валидационную и тестовую. Размеры тестового и валидационного наборов обычно равны. Исходные данные разобьем в соотношении 3:1:1"
   ]
  },
  {
   "cell_type": "code",
   "execution_count": 8,
   "metadata": {},
   "outputs": [],
   "source": [
    "# используем функцию train_test_split для df, чтобы разделить на 2 части, учитывая соотношение классов\n",
    "df_train, df = train_test_split(df, test_size=0.4, random_state=12345, stratify = df['Exited'])\n",
    "    \n",
    "# вторую часть делим на тестовую и валидационную\n",
    "df_valid, df_test = train_test_split(df, test_size=0.5, random_state=12345, stratify = df['Exited'])    "
   ]
  },
  {
   "cell_type": "code",
   "execution_count": 9,
   "metadata": {},
   "outputs": [
    {
     "name": "stdout",
     "output_type": "stream",
     "text": [
      "(6000, 12) (2000, 12) (2000, 12)\n"
     ]
    }
   ],
   "source": [
    "# проверим размеры выборок\n",
    "print(\n",
    "    df_train.shape, \n",
    "    df_valid.shape,\n",
    "    df_test.shape\n",
    ")"
   ]
  },
  {
   "cell_type": "markdown",
   "metadata": {},
   "source": [
    "Выборки созданы. Теперь разделим их на признаки и целевой признак."
   ]
  },
  {
   "cell_type": "code",
   "execution_count": 10,
   "metadata": {},
   "outputs": [],
   "source": [
    "features_train = df_train.drop('Exited', axis =1 )\n",
    "target_train = df_train['Exited']\n",
    "features_valid =df_valid.drop('Exited', axis =1 )\n",
    "target_valid= df_valid['Exited']"
   ]
  },
  {
   "cell_type": "code",
   "execution_count": 11,
   "metadata": {},
   "outputs": [],
   "source": [
    "# создадим признаки для тестовой выборки\n",
    "features_test = df_test.drop('Exited', axis = 1)\n",
    "# создадим цель\n",
    "target_test = df_test['Exited']"
   ]
  },
  {
   "cell_type": "markdown",
   "metadata": {},
   "source": [
    "Все столбцы содержат числовые значения, можем приступать к стандартизации данных"
   ]
  },
  {
   "cell_type": "code",
   "execution_count": 12,
   "metadata": {
    "scrolled": false
   },
   "outputs": [],
   "source": [
    "numeric = ['CreditScore', 'Geography_Germany','Geography_Spain', 'Gender', 'Age', 'Tenure', \n",
    "           'Balance', 'NumOfProducts', 'HasCrCard', 'IsActiveMember', 'EstimatedSalary' \n",
    "]\n",
    "# выполним стандартизацию данных структурой StandardScaler()\n",
    "scaler = StandardScaler()\n",
    "# обучим на тренировочной части данных\n",
    "scaler.fit(features_train)\n",
    "# применим функцию transform()\n",
    "features_train[numeric] = scaler.transform(features_train[numeric])\n",
    "features_valid[numeric] = scaler.transform(features_valid[numeric])\n",
    "features_test[numeric] = scaler.transform(features_test[numeric])"
   ]
  },
  {
   "cell_type": "markdown",
   "metadata": {},
   "source": [
    "Исследуем баланс классов."
   ]
  },
  {
   "cell_type": "code",
   "execution_count": 13,
   "metadata": {},
   "outputs": [
    {
     "name": "stdout",
     "output_type": "stream",
     "text": [
      "0    4778\n",
      "1    1222\n",
      "Name: Exited, dtype: int64\n"
     ]
    }
   ],
   "source": [
    "print(target_train.value_counts())"
   ]
  },
  {
   "cell_type": "markdown",
   "metadata": {},
   "source": [
    "Распределение 1 к 4.\n",
    "Если не учитывать эти данные, то модель будет перегружена большим классом(нулями), в следствии будет игнорировать меньший класс(единицы).\n",
    "Модели может не хватить примеров и свойств редкого класса.\n",
    "\n",
    "Сначала обучим модель без учета дисбаланса, в следующем разделе примем во внимание дисбаланс и сравним результаты."
   ]
  },
  {
   "cell_type": "markdown",
   "metadata": {},
   "source": [
    "Оценивать качество модели будем с помощью F1 меры, которая является средним гармоническим полноты и точности.\n",
    "\n",
    "Единица в F1 означает, что соотношение полноты и точности равно 1:1.\n",
    "\n",
    "Когда полнота и точность близки к нулю, то к 0 приближается и само среднее гармоническое."
   ]
  },
  {
   "cell_type": "markdown",
   "metadata": {},
   "source": [
    "Чтобы выявить, как сильно наша модель отличается от случайной,\n",
    "посчитаем AUC-ROC. \n",
    "Это метрика качества, которая изменяется от 0 до 1. AUC-ROC случайной модели равна 0,5."
   ]
  },
  {
   "cell_type": "code",
   "execution_count": 14,
   "metadata": {},
   "outputs": [
    {
     "name": "stdout",
     "output_type": "stream",
     "text": [
      "F1 мера =  0.5936599423631124 max_debt =  7\n",
      "AUC-ROC =  0.8248880739481723\n",
      "CPU times: total: 375 ms\n",
      "Wall time: 405 ms\n"
     ]
    }
   ],
   "source": [
    "%%time\n",
    "best_model_1 = None\n",
    "best_result = 0\n",
    "best_depth = 0\n",
    "# сделаем цикл для max_depth от 1 до 12\n",
    "for depth in range(1, 12):\n",
    "    # создадим модель, указав max_depth=depth\n",
    "    model_tree = DecisionTreeClassifier(random_state=12345, max_depth= depth)\n",
    "    # обучим модель\n",
    "    model_tree.fit(features_train, target_train) \n",
    "    # найдём предсказания на валидационной выборке\n",
    "    predictions_valid = model_tree.predict(features_valid)\n",
    "    \n",
    "# найдем значение F1 меры\n",
    "    result = f1_score(target_valid, predictions_valid)\n",
    "# выберем лучшую модель с лучшим результатом    \n",
    "    if result > best_result:\n",
    "            best_model_1 = model_tree\n",
    "            best_result = result\n",
    "            best_depth = depth\n",
    "# вычислим вероятность классов функцией predict_proba()\n",
    "probabilities_valid = best_model_1.predict_proba(features_valid)\n",
    "# выделим вероятность положительного класса\n",
    "probabilities_one_valid = probabilities_valid[:, 1]\n",
    "# для подсчета метрики AUC-ROC используем функцию roc_auc_score()\n",
    "auc_roc = roc_auc_score(target_valid, probabilities_one_valid)\n",
    "    \n",
    "    \n",
    "print('F1 мера = ', best_result,'max_debt = ', best_depth )\n",
    "print('AUC-ROC = ', auc_roc)"
   ]
  },
  {
   "cell_type": "code",
   "execution_count": 15,
   "metadata": {},
   "outputs": [
    {
     "name": "stdout",
     "output_type": "stream",
     "text": [
      "F1 мера случайного леса на валидационной выборке: 0.6120058565153733 Количество деревьев: 30 Максимальная глубина: 14\n",
      "AUC-ROC =  0.8571118459946793\n",
      "CPU times: total: 23.5 s\n",
      "Wall time: 24.4 s\n"
     ]
    }
   ],
   "source": [
    "%%time\n",
    "best_model_2 = None\n",
    "best_result = 0\n",
    "best_est = 0\n",
    "best_depth = 0\n",
    "for est in range(10, 51, 10):\n",
    "    for depth in range (1, 15):\n",
    "        # инициализируем модель RandomForestRegressor с параметрами random_state=12345, n_estimators=est и max_depth=depth\n",
    "        model_forest = RandomForestClassifier(random_state=12345, n_estimators=est, max_depth=depth) \n",
    "        # обучим модель на тренировочной выборке\n",
    "        model_forest.fit(features_train, target_train) \n",
    "         # получим предсказания модели на валидационной выборке\n",
    "        predictions_valid = model_forest.predict(features_valid)\n",
    "        # сохраним Accuracy в переменную result\n",
    "        result = f1_score(target_valid, predictions_valid)\n",
    "        # отберем лучшие результаты\n",
    "        if result > best_result:\n",
    "            best_model_2 = model_forest\n",
    "            best_result = result\n",
    "            best_est = est\n",
    "            best_depth = depth\n",
    "            \n",
    "# вычислим вероятность классов функцией predict_proba()\n",
    "# выделим вероятность положительного класса\n",
    "# для подсчета метрики AUC-ROC используем функцию roc_auc_score()\n",
    "            \n",
    "probabilities_valid = best_model_2.predict_proba(features_valid)\n",
    "probabilities_one_valid = probabilities_valid[:, 1]\n",
    "auc_roc = roc_auc_score(target_valid, probabilities_one_valid)\n",
    "        \n",
    "print(\"F1 мера случайного леса на валидационной выборке:\", best_result, \"Количество деревьев:\", best_est, \"Максимальная глубина:\", depth)\n",
    "print('AUC-ROC = ', auc_roc)"
   ]
  },
  {
   "cell_type": "code",
   "execution_count": 16,
   "metadata": {},
   "outputs": [
    {
     "name": "stdout",
     "output_type": "stream",
     "text": [
      "F1 мера = 0.0\n",
      "AUC-ROC =  0.47889262488915163\n"
     ]
    }
   ],
   "source": [
    "# создадим модель логистической регрессии с параметрами solver='liblinear'\n",
    "# Гиперпараметром max_iter задаётся максимальное количество итераций обучения.\n",
    "model_log_reg = LogisticRegression(random_state=12345, solver='liblinear', max_iter=1000)\n",
    "# обучим модель\n",
    "model_log_reg.fit(features_train, target_train)\n",
    "# получим предсказание модели на валидационной выборке\n",
    "predictions_valid = model_log_reg.predict(features_valid)\n",
    "\n",
    "# вычислим вероятность классов функцией predict_proba()\n",
    "# выделим вероятность положительного класса\n",
    "# для подсчета метрики AUC-ROC используем функцию roc_auc_score()\n",
    "\n",
    "probabilities_valid = model_log_reg.predict_proba(features_valid)\n",
    "probabilities_one_valid = probabilities_valid[:, 1]\n",
    "auc_roc = roc_auc_score(target_valid, probabilities_one_valid)\n",
    "print('F1 мера =', f1_score(target_valid, predictions_valid))\n",
    "print('AUC-ROC = ', auc_roc)"
   ]
  },
  {
   "cell_type": "markdown",
   "metadata": {},
   "source": [
    "**Вывод**\n",
    "\n",
    "Исследовали 3 модели.\n",
    "\n",
    "Лучший показать F1 меры у модели случайного леса, составляет 0,612. AUC-ROC 0,8571.\n",
    "Данные показатели больше 0,5, что говорит о том, что она лучше случайной модели."
   ]
  },
  {
   "cell_type": "markdown",
   "metadata": {},
   "source": [
    "## Борьба с дисбалансом"
   ]
  },
  {
   "cell_type": "markdown",
   "metadata": {},
   "source": [
    "### Борьба с дисбалансом методом \"Взвешивание классов\""
   ]
  },
  {
   "cell_type": "markdown",
   "metadata": {},
   "source": [
    "В методе \"Взвешивание классов\" редкому классу присваивается больший вес. В нашем случае должен быть вес класса \"0\" = 1, вес класса \"1\" = 4. \n",
    "\n",
    "Если указать `class_weight='balanced'` , алгоритм посчитает, во сколько раз\n",
    "класс «0» встречается чаще класса «1»."
   ]
  },
  {
   "cell_type": "code",
   "execution_count": 17,
   "metadata": {},
   "outputs": [
    {
     "name": "stdout",
     "output_type": "stream",
     "text": [
      "F1 мера = 0.36621534493874913\n",
      "AUC-ROC =  0.6023453665385753\n"
     ]
    }
   ],
   "source": [
    "# создадим модель логистической регрессии с параметрами solver='liblinear'\n",
    "# Гиперпараметром max_iter задаётся максимальное количество итераций обучения.\n",
    "model_log_reg = LogisticRegression(random_state=12345, solver='liblinear', max_iter=1000, class_weight='balanced')\n",
    "# обучим модель\n",
    "model_log_reg.fit(features_train, target_train)\n",
    "# получим предсказание модели на валидационной выборке\n",
    "predictions_valid = model_log_reg.predict(features_valid)\n",
    "\n",
    "# вычислим вероятность классов функцией predict_proba()\n",
    "# выделим вероятность положительного класса\n",
    "# для подсчета метрики AUC-ROC используем функцию roc_auc_score()\n",
    "\n",
    "probabilities_valid = model_log_reg.predict_proba(features_valid)\n",
    "probabilities_one_valid = probabilities_valid[:, 1]\n",
    "auc_roc = roc_auc_score(target_valid, probabilities_one_valid)\n",
    "print('F1 мера =', f1_score(target_valid, predictions_valid))\n",
    "print('AUC-ROC = ', auc_roc)"
   ]
  },
  {
   "cell_type": "markdown",
   "metadata": {},
   "source": [
    "После \"взвешивания классов\" модель логистической регрессии значительно улучшилась, F1 мера увеличилась с 0 до 0,36 "
   ]
  },
  {
   "cell_type": "code",
   "execution_count": 18,
   "metadata": {},
   "outputs": [
    {
     "name": "stdout",
     "output_type": "stream",
     "text": [
      "F1 мера =  0.575925925925926 max_debt =  6\n",
      "AUC-ROC =  0.8233269595526653\n",
      "CPU times: total: 688 ms\n",
      "Wall time: 690 ms\n"
     ]
    }
   ],
   "source": [
    "%%time\n",
    "best_model_1 = None\n",
    "best_result = 0\n",
    "best_depth = 0\n",
    "# сделаем цикл для max_depth от 1 до 15\n",
    "for depth in range(1, 15):\n",
    "    # создадим модель, указав max_depth=depth\n",
    "    model_tree = DecisionTreeClassifier(random_state=12345, max_depth= depth, class_weight='balanced')\n",
    "    # обучим модель\n",
    "    model_tree.fit(features_train, target_train) \n",
    "    # найдём предсказания на валидационной выборке\n",
    "    predictions_valid = model_tree.predict(features_valid)\n",
    "    \n",
    "\n",
    "    result = f1_score(target_valid, predictions_valid)\n",
    "    \n",
    "    if result > best_result:\n",
    "            best_model_1 = model_tree\n",
    "            best_result = result\n",
    "            best_depth = depth\n",
    "\n",
    "# вычислим вероятность классов функцией predict_proba()\n",
    "# выделим вероятность положительного класса\n",
    "# для подсчета метрики AUC-ROC используем функцию roc_auc_score()\n",
    "\n",
    "probabilities_valid = best_model_1.predict_proba(features_valid)\n",
    "probabilities_one_valid = probabilities_valid[:, 1]\n",
    "auc_roc = roc_auc_score(target_valid, probabilities_one_valid)\n",
    "    \n",
    "    \n",
    "print('F1 мера = ', best_result,'max_debt = ', best_depth )\n",
    "print('AUC-ROC = ', auc_roc)"
   ]
  },
  {
   "cell_type": "markdown",
   "metadata": {},
   "source": [
    "После \"взвешивания классов\" модель решаюшего дерева незначительно ухудшилась, F1 мера уменьшилась с 0,59 до 0,57"
   ]
  },
  {
   "cell_type": "code",
   "execution_count": 19,
   "metadata": {
    "scrolled": true
   },
   "outputs": [
    {
     "name": "stdout",
     "output_type": "stream",
     "text": [
      "F1 мера случайного леса на валидационной выборке: 0.6465324384787472 Количество деревьев: 50 Максимальная глубина: 24\n",
      "AUC-ROC =  0.8719639865996649\n",
      "CPU times: total: 1min 5s\n",
      "Wall time: 1min 6s\n"
     ]
    }
   ],
   "source": [
    "%%time\n",
    "best_model_2 = None\n",
    "best_result = 0\n",
    "best_est = 0\n",
    "best_depth = 0\n",
    "for est in range(10, 61, 10):\n",
    "    for depth in range (1, 25):\n",
    "        # инициализируем модель RandomForestRegressor с параметрами random_state=12345, n_estimators=est и max_depth=depth\n",
    "        model_forest = RandomForestClassifier(random_state=12345, n_estimators=est, max_depth=depth, class_weight='balanced') \n",
    "        # обучим модель на тренировочной выборке\n",
    "        model_forest.fit(features_train, target_train) \n",
    "         # получим предсказания модели на валидационной выборке\n",
    "        predictions_valid = model_forest.predict(features_valid)\n",
    "        # сохраним F1 меру в переменную result\n",
    "        result = f1_score(target_valid, predictions_valid)\n",
    "        # отберем лучшие результаты\n",
    "        if result > best_result:\n",
    "            best_model_2 = model_forest\n",
    "            best_result = result\n",
    "            best_est = est\n",
    "            best_depth = depth\n",
    "\n",
    "# вычислим вероятность классов функцией predict_proba()\n",
    "# выделим вероятность положительного класса\n",
    "# для подсчета метрики AUC-ROC используем функцию roc_auc_score()\n",
    "            \n",
    "probabilities_valid = best_model_2.predict_proba(features_valid)\n",
    "probabilities_one_valid = probabilities_valid[:, 1]\n",
    "auc_roc = roc_auc_score(target_valid, probabilities_one_valid)\n",
    "        \n",
    "print(\"F1 мера случайного леса на валидационной выборке:\", best_result, \"Количество деревьев:\", best_est, \"Максимальная глубина:\", depth)\n",
    "print('AUC-ROC = ', auc_roc)"
   ]
  },
  {
   "cell_type": "markdown",
   "metadata": {},
   "source": [
    "После \"взвешивания классов\" модель случайного леса  улучшилась, F1 мера увеличилась с 0,61 до 0,64 "
   ]
  },
  {
   "cell_type": "markdown",
   "metadata": {},
   "source": [
    "### Борьба с дисбалансом методом \"upsampling\""
   ]
  },
  {
   "cell_type": "markdown",
   "metadata": {},
   "source": [
    "Сбалансируем классы путём увеличения числа объектов меньшего класса, обучим модели.\n",
    "\n",
    "Преобразование проходит в несколько этапов:\n",
    "* Разделить обучающую выборку на объекты по классам;\n",
    "* Определить тот класс, который содержит меньше объектов. Назовём его меньшим классом;\n",
    "* Скопировать несколько раз объекты меньшего класса;\n",
    "* С учётом полученных данных создать новую обучающую выборку, Чтобы соединить таблицы, используется функция `pd.concat()`.   Она на вход получает список таблиц, которые нужно соединить.;\n",
    "* Перемешать данные- метод `shuffle`."
   ]
  },
  {
   "cell_type": "code",
   "execution_count": 20,
   "metadata": {},
   "outputs": [],
   "source": [
    "# функция upsample():\n",
    "def upsample(features, target, repeat):\n",
    "    features_zeros = features[target == 0]\n",
    "    features_ones = features[target == 1]\n",
    "    target_zeros = target[target == 0]\n",
    "    target_ones = target[target == 1]\n",
    "# используем функцию pd.concat() для соединения таблиц\n",
    "    features_upsampled = pd.concat([features_zeros] + [features_ones] * repeat)\n",
    "    target_upsampled = pd.concat([target_zeros] + [target_ones] * repeat)\n",
    "# методом shuffle перемешаем данные  \n",
    "    features_upsampled, target_upsampled = shuffle(\n",
    "        features_upsampled, target_upsampled, random_state=12345)\n",
    "    \n",
    "    return features_upsampled, target_upsampled\n",
    "# применим функцию upsemple к обучающей выборке увеличик кол-во единиц в 4 раза\n",
    "features_upsampled, target_upsampled = upsample(features_train, target_train, 4)\n"
   ]
  },
  {
   "cell_type": "code",
   "execution_count": 21,
   "metadata": {},
   "outputs": [
    {
     "name": "stdout",
     "output_type": "stream",
     "text": [
      "F1 мера = 0.5835866261398177\n",
      "AUC-ROC =  0.5842047246034092\n"
     ]
    }
   ],
   "source": [
    "model_3_up = LogisticRegression(random_state = 12345, solver='liblinear')\n",
    "model_3_up.fit(features_upsampled, target_upsampled) \n",
    "predicted_valid = model_3_up.predict(features_valid)\n",
    "\n",
    "probabilities_valid = model_3_up.predict_proba(features_valid)\n",
    "probabilities_one_valid = probabilities_valid[:, 1]\n",
    "auc_roc = roc_auc_score(target_valid, probabilities_one_valid)\n",
    "print('F1 мера =', f1_score(target_valid, predictions_valid))\n",
    "print('AUC-ROC = ', auc_roc)"
   ]
  },
  {
   "cell_type": "markdown",
   "metadata": {},
   "source": [
    "После применения метода \"upsempling\" в логистической регрессии F1 мера увеличилась до 0,59 по сравнению с предыдущими вариантами 0,36 и 0 соотвественно."
   ]
  },
  {
   "cell_type": "code",
   "execution_count": 22,
   "metadata": {
    "scrolled": true
   },
   "outputs": [
    {
     "name": "stdout",
     "output_type": "stream",
     "text": [
      "F1 мера =  0.575925925925926 max_debt =  6\n",
      "AUC-ROC =  0.8233423551581437\n"
     ]
    }
   ],
   "source": [
    "best_model_1_up = None\n",
    "best_result = 0\n",
    "best_depth = 0\n",
    "# сделаем цикл для max_depth от 1 до 15\n",
    "for depth in range(1, 15):\n",
    "    # создадим модель, указав max_depth=depth\n",
    "    model_tree_up = DecisionTreeClassifier(random_state=12345, max_depth= depth)\n",
    "    # обучим модель\n",
    "    model_tree_up.fit(features_upsampled, target_upsampled) \n",
    "    # найдём предсказания на валидационной выборке\n",
    "    predictions_valid = model_tree_up.predict(features_valid)\n",
    "    \n",
    "\n",
    "    result = f1_score(target_valid, predictions_valid)\n",
    "    \n",
    "    if result > best_result:\n",
    "            best_model_1_up = model_tree_up\n",
    "            best_result = result\n",
    "            best_depth = depth\n",
    "\n",
    "probabilities_valid = best_model_1_up.predict_proba(features_valid)\n",
    "probabilities_one_valid = probabilities_valid[:, 1]\n",
    "auc_roc = roc_auc_score(target_valid, probabilities_one_valid)\n",
    "    \n",
    "    \n",
    "print('F1 мера = ', best_result,'max_debt = ', best_depth )\n",
    "print('AUC-ROC = ', auc_roc)"
   ]
  },
  {
   "cell_type": "markdown",
   "metadata": {},
   "source": [
    "После применения метода \"upsempling\" решающее дерево ухудшило результат по F1 мере до 0,57 по сравнению с педыдущими 0,57 и 0,59 соответственно."
   ]
  },
  {
   "cell_type": "code",
   "execution_count": 23,
   "metadata": {},
   "outputs": [
    {
     "name": "stdout",
     "output_type": "stream",
     "text": [
      "F1 мера случайного леса на валидационной выборке: 0.6513233601841196 Количество деревьев: 50 Максимальная глубина: 14\n",
      "AUC-ROC =  0.8658596290274904\n",
      "CPU times: total: 32.3 s\n",
      "Wall time: 33.1 s\n"
     ]
    }
   ],
   "source": [
    "%%time\n",
    "best_model_2_up = None\n",
    "best_result = 0\n",
    "best_est = 0\n",
    "best_depth = 0\n",
    "for est in range(10, 51, 10):\n",
    "    for depth in range (1, 15):\n",
    "        # инициализируем модель RandomForestRegressor с параметрами random_state=12345, n_estimators=est и max_depth=depth\n",
    "        model_forest_up = RandomForestClassifier(random_state=12345, n_estimators=est, max_depth=depth, class_weight='balanced') \n",
    "        # обучим модель на тренировочной выборке\n",
    "        model_forest_up.fit(features_upsampled, target_upsampled) \n",
    "         # получим предсказания модели на валидационной выборке\n",
    "        predictions_valid = model_forest_up.predict(features_valid)\n",
    "        # сохраним Accuracy в переменную result\n",
    "        result = f1_score(target_valid, predictions_valid)\n",
    "        # отберем лучшие результаты\n",
    "        if result > best_result:\n",
    "            best_model_2_up = model_forest_up\n",
    "            best_result = result\n",
    "            best_est = est\n",
    "            best_depth = depth\n",
    "            \n",
    "probabilities_valid = best_model_2_up.predict_proba(features_valid)\n",
    "probabilities_one_valid = probabilities_valid[:, 1]\n",
    "auc_roc = roc_auc_score(target_valid, probabilities_one_valid)\n",
    "        \n",
    "print(\"F1 мера случайного леса на валидационной выборке:\", best_result, \"Количество деревьев:\", best_est, \"Максимальная глубина:\", depth)\n",
    "print('AUC-ROC = ', auc_roc)"
   ]
  },
  {
   "cell_type": "markdown",
   "metadata": {},
   "source": [
    "После применения метода \"upsempling\" случайный лес показал первый результат по F1 мере до 0,65 по сравнению с педыдущими 0,64 и 0,62 соответственно."
   ]
  },
  {
   "cell_type": "markdown",
   "metadata": {},
   "source": [
    "Лучшая модель при применении \"взешивании классов\" -случайный лес best_model_2 с результатом F1 меры 0,6465, количество деревьев 50, глубина 14.\n",
    "\n",
    "Лучшая модель при \"увеличении выборки\"- случайный лес  best_model_2_up с результатом F1 меры 0,6513, количество деревьев 50, глубина 14.\n",
    "\n",
    "Проверим обе на тестовой выборке."
   ]
  },
  {
   "cell_type": "markdown",
   "metadata": {},
   "source": [
    "## Тестирование модели"
   ]
  },
  {
   "cell_type": "code",
   "execution_count": 24,
   "metadata": {},
   "outputs": [
    {
     "name": "stdout",
     "output_type": "stream",
     "text": [
      "F1 мера на тестовой выборке = 0.609090909090909\n",
      "AUC-ROC =  0.8532692939472599\n"
     ]
    }
   ],
   "source": [
    "# получим предсказание модели на тестовой выборке\n",
    "predictions_test = best_model_2.predict(features_test)\n",
    "print('F1 мера на тестовой выборке =', f1_score(target_test, predictions_test))\n",
    "            \n",
    "probabilities_test = best_model_2.predict_proba(features_test)\n",
    "probabilities_one_test = probabilities_test[:, 1]\n",
    "auc_roc_test = roc_auc_score(target_test, probabilities_one_test)\n",
    "print('AUC-ROC = ', auc_roc_test)"
   ]
  },
  {
   "cell_type": "markdown",
   "metadata": {},
   "source": [
    "Для наглядного представления работы модели построим матрицу ошибок, в которой по главной диагонали(от верхнего левого угла) располагаются правильные прогнозы, а вне главной диагонали- ошибочные варианты."
   ]
  },
  {
   "cell_type": "code",
   "execution_count": 25,
   "metadata": {
    "scrolled": true
   },
   "outputs": [
    {
     "data": {
      "image/png": "[encoded data removed]",
      "text/plain": [
       "<Figure size 640x480 with 2 Axes>"
      ]
     },
     "metadata": {},
     "output_type": "display_data"
    }
   ],
   "source": [
    "# построим матрицу ошибок \n",
    "matrix = confusion_matrix(target_test,predictions_test)\n",
    "disp = ConfusionMatrixDisplay(matrix)\n",
    "disp.plot()\n",
    "plt.show()"
   ]
  },
  {
   "cell_type": "markdown",
   "metadata": {},
   "source": [
    "1388- количество правильно предсказанных значений класса 0, т.е. столкько клиентов осталось и модель это правильно предсказала. \n",
    "\n",
    "139- столько значений класса 1 было предсказанно неправильно, т.е. 139 клиентов фактически ушли, а модель рассчитала, что они остались.\n",
    "\n",
    "205- количество фактически оставшихся клиентов, но модель предсказала, что они ушли.\n",
    "\n",
    "268- человек фактически ушли и модель правильно предсказала их уход."
   ]
  },
  {
   "cell_type": "markdown",
   "metadata": {},
   "source": [
    "Целевой показатель достигнут. Возьмем вторую модель для проверки на тестовой выборке."
   ]
  },
  {
   "cell_type": "code",
   "execution_count": 26,
   "metadata": {},
   "outputs": [
    {
     "name": "stdout",
     "output_type": "stream",
     "text": [
      "F1 мера на тестовой выборке = 0.6021003500583432\n",
      "AUC-ROC =  0.8483938483938483\n"
     ]
    }
   ],
   "source": [
    "# # получим предсказание модели на тестовой выборке\n",
    "predictions_test = best_model_2_up.predict(features_test)\n",
    "print('F1 мера на тестовой выборке =', f1_score(target_test, predictions_test))\n",
    "            \n",
    "probabilities_test = best_model_2_up.predict_proba(features_test)\n",
    "probabilities_one_test = probabilities_test[:, 1]\n",
    "auc_roc_test = roc_auc_score(target_test, probabilities_one_test)\n",
    "print('AUC-ROC = ', auc_roc_test)"
   ]
  },
  {
   "cell_type": "markdown",
   "metadata": {},
   "source": [
    "Целевое значение достигнуто и составило 0,6021.\n",
    "Значение AUC-ROC 0.84 , что является высоким показателем."
   ]
  },
  {
   "cell_type": "code",
   "execution_count": 27,
   "metadata": {
    "scrolled": false
   },
   "outputs": [
    {
     "data": {
      "image/png": "[encoded data removed]",
      "text/plain": [
       "<Figure size 640x480 with 2 Axes>"
      ]
     },
     "metadata": {},
     "output_type": "display_data"
    }
   ],
   "source": [
    "matrix = confusion_matrix(target_test,predictions_test)\n",
    "disp = ConfusionMatrixDisplay(matrix)\n",
    "disp.plot()\n",
    "plt.show()"
   ]
  },
  {
   "cell_type": "markdown",
   "metadata": {},
   "source": [
    "1401 - количество правильно предсказанных значений класса 0, т.е. столкько клиентов осталось и модель это правильно предсказала. \n",
    "\n",
    "149- столько значений класса 1 было предсказанно неправильно, т.е. 149 клиентов фактически ушли, а модель рассчитала, что они остались.\n",
    "\n",
    "192- количество фактически оставшихся клиентов, но модель предсказала, что они ушли.\n",
    "\n",
    "258- человек фактически ушли и модель правильно предсказала их уход."
   ]
  },
  {
   "cell_type": "markdown",
   "metadata": {},
   "source": [
    "**Итоговый вывод**"
   ]
  },
  {
   "cell_type": "markdown",
   "metadata": {},
   "source": [
    "  Наша цель была обучить модель, которая предсказывала бы уход клиента из банка, с целевым показателем F1 меры не менее 0,59\n",
    "  \n",
    "  В результате лучшей моделью на тестовой выборке является модель \"случайного леса\", которая учитывает дисбаланс с помощью взвешивания классов. "
   ]
  },
  {
   "cell_type": "markdown",
   "metadata": {},
   "source": [
    "## Чек-лист готовности проекта"
   ]
  },
  {
   "cell_type": "markdown",
   "metadata": {},
   "source": [
    "Поставьте 'x' в выполненных пунктах. Далее нажмите Shift+Enter."
   ]
  },
  {
   "cell_type": "markdown",
   "metadata": {},
   "source": [
    "- [x]  Jupyter Notebook открыт\n",
    "- [x]  Весь код выполняется без ошибок\n",
    "- [x]  Ячейки с кодом расположены в порядке исполнения\n",
    "- [x]  Выполнен шаг 1: данные подготовлены\n",
    "- [x]  Выполнен шаг 2: задача исследована\n",
    "    - [x]  Исследован баланс классов\n",
    "    - [x]  Изучены модели без учёта дисбаланса\n",
    "    - [x]  Написаны выводы по результатам исследования\n",
    "- [x]  Выполнен шаг 3: учтён дисбаланс\n",
    "    - [x]  Применено несколько способов борьбы с дисбалансом\n",
    "    - [x]  Написаны выводы по результатам исследования\n",
    "- [x]  Выполнен шаг 4: проведено тестирование\n",
    "- [x]  Удалось достичь *F1*-меры не менее 0.59\n",
    "- [x]  Исследована метрика *AUC-ROC*"
   ]
  }
 ],
 "metadata": {
  "ExecuteTimeLog": [
   {
    "duration": 1621,
    "start_time": "2022-09-08T14:13:14.226Z"
   },
   {
    "duration": 121,
    "start_time": "2022-09-08T14:14:39.737Z"
   },
   {
    "duration": 65,
    "start_time": "2022-09-08T14:14:56.602Z"
   },
   {
    "duration": 62,
    "start_time": "2022-09-08T14:15:05.904Z"
   },
   {
    "duration": 17,
    "start_time": "2022-09-08T14:19:41.244Z"
   },
   {
    "duration": 37,
    "start_time": "2022-09-08T14:19:48.369Z"
   },
   {
    "duration": 23,
    "start_time": "2022-09-08T14:19:51.900Z"
   },
   {
    "duration": 33,
    "start_time": "2022-09-08T14:19:54.437Z"
   },
   {
    "duration": 55,
    "start_time": "2022-09-08T14:22:15.846Z"
   },
   {
    "duration": 81,
    "start_time": "2022-09-08T14:22:22.672Z"
   },
   {
    "duration": 125,
    "start_time": "2022-09-08T14:30:50.530Z"
   },
   {
    "duration": 7,
    "start_time": "2022-09-08T14:31:33.325Z"
   },
   {
    "duration": 23,
    "start_time": "2022-09-08T14:31:50.900Z"
   },
   {
    "duration": 11,
    "start_time": "2022-09-08T14:32:04.736Z"
   },
   {
    "duration": 5,
    "start_time": "2022-09-08T14:32:10.032Z"
   },
   {
    "duration": 53,
    "start_time": "2022-09-08T14:32:10.040Z"
   },
   {
    "duration": 10,
    "start_time": "2022-09-08T14:32:10.094Z"
   },
   {
    "duration": 54,
    "start_time": "2022-09-08T14:32:10.106Z"
   },
   {
    "duration": 35,
    "start_time": "2022-09-08T14:32:10.937Z"
   },
   {
    "duration": 10,
    "start_time": "2022-09-08T14:32:11.463Z"
   },
   {
    "duration": 12,
    "start_time": "2022-09-08T14:32:23.940Z"
   },
   {
    "duration": 4,
    "start_time": "2022-09-08T14:32:28.377Z"
   },
   {
    "duration": 77,
    "start_time": "2022-09-08T14:32:28.383Z"
   },
   {
    "duration": 11,
    "start_time": "2022-09-08T14:32:28.462Z"
   },
   {
    "duration": 61,
    "start_time": "2022-09-08T14:32:28.475Z"
   },
   {
    "duration": 46,
    "start_time": "2022-09-08T14:32:30.397Z"
   },
   {
    "duration": 11,
    "start_time": "2022-09-08T14:32:30.979Z"
   },
   {
    "duration": 14,
    "start_time": "2022-09-08T14:33:18.305Z"
   },
   {
    "duration": 4,
    "start_time": "2022-09-08T14:33:22.625Z"
   },
   {
    "duration": 106,
    "start_time": "2022-09-08T14:33:22.633Z"
   },
   {
    "duration": 17,
    "start_time": "2022-09-08T14:33:22.745Z"
   },
   {
    "duration": 74,
    "start_time": "2022-09-08T14:33:22.764Z"
   },
   {
    "duration": 35,
    "start_time": "2022-09-08T14:33:23.937Z"
   },
   {
    "duration": 19,
    "start_time": "2022-09-08T14:33:24.606Z"
   },
   {
    "duration": 33,
    "start_time": "2022-09-08T14:33:46.062Z"
   },
   {
    "duration": 18,
    "start_time": "2022-09-08T14:34:27.043Z"
   },
   {
    "duration": 4,
    "start_time": "2022-09-08T14:34:30.274Z"
   },
   {
    "duration": 72,
    "start_time": "2022-09-08T14:34:30.280Z"
   },
   {
    "duration": 16,
    "start_time": "2022-09-08T14:34:30.354Z"
   },
   {
    "duration": 58,
    "start_time": "2022-09-08T14:34:30.372Z"
   },
   {
    "duration": 13,
    "start_time": "2022-09-08T14:34:30.433Z"
   },
   {
    "duration": 21,
    "start_time": "2022-09-08T14:34:31.006Z"
   },
   {
    "duration": 37,
    "start_time": "2022-09-08T14:34:31.585Z"
   },
   {
    "duration": 12,
    "start_time": "2022-09-08T14:34:57.747Z"
   },
   {
    "duration": 19,
    "start_time": "2022-09-08T14:35:02.507Z"
   },
   {
    "duration": 77,
    "start_time": "2022-09-08T14:35:02.530Z"
   },
   {
    "duration": 18,
    "start_time": "2022-09-08T14:35:02.609Z"
   },
   {
    "duration": 63,
    "start_time": "2022-09-08T14:35:02.630Z"
   },
   {
    "duration": 27,
    "start_time": "2022-09-08T14:35:02.694Z"
   },
   {
    "duration": 50,
    "start_time": "2022-09-08T14:35:02.733Z"
   },
   {
    "duration": 3,
    "start_time": "2022-09-08T14:35:12.257Z"
   },
   {
    "duration": 65,
    "start_time": "2022-09-08T14:35:12.262Z"
   },
   {
    "duration": 18,
    "start_time": "2022-09-08T14:35:12.330Z"
   },
   {
    "duration": 37,
    "start_time": "2022-09-08T14:35:12.351Z"
   },
   {
    "duration": 37,
    "start_time": "2022-09-08T14:35:13.424Z"
   },
   {
    "duration": 12,
    "start_time": "2022-09-08T14:35:13.961Z"
   },
   {
    "duration": 45,
    "start_time": "2022-09-08T14:35:14.933Z"
   },
   {
    "duration": 51,
    "start_time": "2022-09-08T18:15:40.350Z"
   },
   {
    "duration": 1496,
    "start_time": "2022-09-08T18:15:45.111Z"
   },
   {
    "duration": 264,
    "start_time": "2022-09-08T18:15:46.609Z"
   },
   {
    "duration": 14,
    "start_time": "2022-09-08T18:15:46.875Z"
   },
   {
    "duration": 35,
    "start_time": "2022-09-08T18:15:46.891Z"
   },
   {
    "duration": 5,
    "start_time": "2022-09-08T18:15:46.927Z"
   },
   {
    "duration": 6,
    "start_time": "2022-09-08T18:17:18.466Z"
   },
   {
    "duration": 5,
    "start_time": "2022-09-08T18:23:43.933Z"
   },
   {
    "duration": 5,
    "start_time": "2022-09-08T18:25:22.736Z"
   },
   {
    "duration": 6,
    "start_time": "2022-09-08T18:26:04.761Z"
   },
   {
    "duration": 67,
    "start_time": "2022-09-08T18:30:45.382Z"
   },
   {
    "duration": 3,
    "start_time": "2022-09-08T18:30:52.661Z"
   },
   {
    "duration": 50,
    "start_time": "2022-09-08T18:30:52.667Z"
   },
   {
    "duration": 10,
    "start_time": "2022-09-08T18:30:52.719Z"
   },
   {
    "duration": 34,
    "start_time": "2022-09-08T18:30:52.730Z"
   },
   {
    "duration": 6,
    "start_time": "2022-09-08T18:30:52.766Z"
   },
   {
    "duration": 34,
    "start_time": "2022-09-08T18:30:52.773Z"
   },
   {
    "duration": 4,
    "start_time": "2022-09-08T18:31:32.632Z"
   },
   {
    "duration": 11,
    "start_time": "2022-09-08T18:31:36.098Z"
   },
   {
    "duration": 86,
    "start_time": "2022-09-08T18:31:43.507Z"
   },
   {
    "duration": 11,
    "start_time": "2022-09-08T18:31:50.045Z"
   },
   {
    "duration": 3,
    "start_time": "2022-09-08T18:31:55.910Z"
   },
   {
    "duration": 48,
    "start_time": "2022-09-08T18:31:55.917Z"
   },
   {
    "duration": 12,
    "start_time": "2022-09-08T18:31:55.967Z"
   },
   {
    "duration": 51,
    "start_time": "2022-09-08T18:31:55.981Z"
   },
   {
    "duration": 5,
    "start_time": "2022-09-08T18:31:56.039Z"
   },
   {
    "duration": 17,
    "start_time": "2022-09-08T18:31:56.046Z"
   },
   {
    "duration": 10,
    "start_time": "2022-09-08T18:32:11.879Z"
   },
   {
    "duration": 15,
    "start_time": "2022-09-08T18:32:30.316Z"
   },
   {
    "duration": 12,
    "start_time": "2022-09-08T18:32:38.527Z"
   },
   {
    "duration": 4,
    "start_time": "2022-09-08T18:32:42.842Z"
   },
   {
    "duration": 55,
    "start_time": "2022-09-08T18:32:42.849Z"
   },
   {
    "duration": 13,
    "start_time": "2022-09-08T18:32:42.906Z"
   },
   {
    "duration": 55,
    "start_time": "2022-09-08T18:32:42.921Z"
   },
   {
    "duration": 6,
    "start_time": "2022-09-08T18:32:42.978Z"
   },
   {
    "duration": 13,
    "start_time": "2022-09-08T18:32:42.986Z"
   },
   {
    "duration": 31,
    "start_time": "2022-09-08T18:33:51.870Z"
   },
   {
    "duration": 13,
    "start_time": "2022-09-08T18:34:26.953Z"
   },
   {
    "duration": 4,
    "start_time": "2022-09-08T18:34:38.767Z"
   },
   {
    "duration": 70,
    "start_time": "2022-09-08T18:34:38.774Z"
   },
   {
    "duration": 12,
    "start_time": "2022-09-08T18:34:38.846Z"
   },
   {
    "duration": 67,
    "start_time": "2022-09-08T18:34:38.859Z"
   },
   {
    "duration": 5,
    "start_time": "2022-09-08T18:34:38.928Z"
   },
   {
    "duration": 32,
    "start_time": "2022-09-08T18:34:38.934Z"
   },
   {
    "duration": 16,
    "start_time": "2022-09-08T18:35:01.797Z"
   },
   {
    "duration": 3,
    "start_time": "2022-09-08T18:35:06.742Z"
   },
   {
    "duration": 53,
    "start_time": "2022-09-08T18:35:06.747Z"
   },
   {
    "duration": 14,
    "start_time": "2022-09-08T18:35:06.802Z"
   },
   {
    "duration": 44,
    "start_time": "2022-09-08T18:35:06.818Z"
   },
   {
    "duration": 4,
    "start_time": "2022-09-08T18:35:06.864Z"
   },
   {
    "duration": 15,
    "start_time": "2022-09-08T18:35:06.870Z"
   },
   {
    "duration": 12,
    "start_time": "2022-09-08T18:39:55.402Z"
   },
   {
    "duration": 4,
    "start_time": "2022-09-08T18:40:00.661Z"
   },
   {
    "duration": 60,
    "start_time": "2022-09-08T18:40:00.668Z"
   },
   {
    "duration": 13,
    "start_time": "2022-09-08T18:40:00.731Z"
   },
   {
    "duration": 42,
    "start_time": "2022-09-08T18:40:00.746Z"
   },
   {
    "duration": 8,
    "start_time": "2022-09-08T18:40:00.805Z"
   },
   {
    "duration": 6,
    "start_time": "2022-09-08T18:40:01.542Z"
   },
   {
    "duration": 13,
    "start_time": "2022-09-08T18:40:02.240Z"
   },
   {
    "duration": 12,
    "start_time": "2022-09-08T18:46:21.560Z"
   },
   {
    "duration": 4,
    "start_time": "2022-09-08T18:46:27.624Z"
   },
   {
    "duration": 59,
    "start_time": "2022-09-08T18:46:27.629Z"
   },
   {
    "duration": 13,
    "start_time": "2022-09-08T18:46:27.690Z"
   },
   {
    "duration": 42,
    "start_time": "2022-09-08T18:46:27.705Z"
   },
   {
    "duration": 5,
    "start_time": "2022-09-08T18:46:27.749Z"
   },
   {
    "duration": 10,
    "start_time": "2022-09-08T18:46:27.755Z"
   },
   {
    "duration": 0,
    "start_time": "2022-09-08T18:46:27.779Z"
   },
   {
    "duration": 10,
    "start_time": "2022-09-08T18:46:31.038Z"
   },
   {
    "duration": 10,
    "start_time": "2022-09-08T18:46:41.110Z"
   },
   {
    "duration": 16,
    "start_time": "2022-09-08T18:46:51.587Z"
   },
   {
    "duration": 9,
    "start_time": "2022-09-08T18:47:57.845Z"
   },
   {
    "duration": 1696,
    "start_time": "2022-09-08T18:48:16.385Z"
   },
   {
    "duration": 1267,
    "start_time": "2022-09-08T18:48:18.396Z"
   },
   {
    "duration": 4,
    "start_time": "2022-09-08T18:48:21.915Z"
   },
   {
    "duration": 59,
    "start_time": "2022-09-08T18:48:21.924Z"
   },
   {
    "duration": 11,
    "start_time": "2022-09-08T18:48:21.984Z"
   },
   {
    "duration": 47,
    "start_time": "2022-09-08T18:48:21.997Z"
   },
   {
    "duration": 6,
    "start_time": "2022-09-08T18:48:22.046Z"
   },
   {
    "duration": 18,
    "start_time": "2022-09-08T18:48:22.053Z"
   },
   {
    "duration": 16,
    "start_time": "2022-09-08T18:48:22.073Z"
   },
   {
    "duration": 16,
    "start_time": "2022-09-08T18:48:22.740Z"
   },
   {
    "duration": 11,
    "start_time": "2022-09-08T18:52:12.437Z"
   },
   {
    "duration": 1330,
    "start_time": "2022-09-08T18:53:05.817Z"
   },
   {
    "duration": 8,
    "start_time": "2022-09-08T18:53:11.114Z"
   },
   {
    "duration": 65,
    "start_time": "2022-09-08T18:53:11.125Z"
   },
   {
    "duration": 12,
    "start_time": "2022-09-08T18:53:11.192Z"
   },
   {
    "duration": 58,
    "start_time": "2022-09-08T18:53:11.209Z"
   },
   {
    "duration": 5,
    "start_time": "2022-09-08T18:53:11.269Z"
   },
   {
    "duration": 12,
    "start_time": "2022-09-08T18:53:11.276Z"
   },
   {
    "duration": 13,
    "start_time": "2022-09-08T18:53:12.392Z"
   },
   {
    "duration": 21,
    "start_time": "2022-09-08T18:53:15.540Z"
   },
   {
    "duration": 3,
    "start_time": "2022-09-08T18:53:53.823Z"
   },
   {
    "duration": 62,
    "start_time": "2022-09-08T18:53:53.830Z"
   },
   {
    "duration": 10,
    "start_time": "2022-09-08T18:53:53.894Z"
   },
   {
    "duration": 37,
    "start_time": "2022-09-08T18:53:53.906Z"
   },
   {
    "duration": 5,
    "start_time": "2022-09-08T18:53:53.944Z"
   },
   {
    "duration": 11,
    "start_time": "2022-09-08T18:53:53.950Z"
   },
   {
    "duration": 49,
    "start_time": "2022-09-08T18:53:53.963Z"
   },
   {
    "duration": 14,
    "start_time": "2022-09-08T18:59:14.145Z"
   },
   {
    "duration": 3,
    "start_time": "2022-09-08T18:59:18.388Z"
   },
   {
    "duration": 62,
    "start_time": "2022-09-08T18:59:18.393Z"
   },
   {
    "duration": 13,
    "start_time": "2022-09-08T18:59:18.457Z"
   },
   {
    "duration": 39,
    "start_time": "2022-09-08T18:59:18.472Z"
   },
   {
    "duration": 6,
    "start_time": "2022-09-08T18:59:18.513Z"
   },
   {
    "duration": 22,
    "start_time": "2022-09-08T18:59:18.522Z"
   },
   {
    "duration": 22,
    "start_time": "2022-09-08T18:59:21.485Z"
   },
   {
    "duration": 11,
    "start_time": "2022-09-08T19:26:45.143Z"
   },
   {
    "duration": 10,
    "start_time": "2022-09-08T19:26:54.656Z"
   },
   {
    "duration": 3,
    "start_time": "2022-09-08T19:26:57.760Z"
   },
   {
    "duration": 52,
    "start_time": "2022-09-08T19:26:57.769Z"
   },
   {
    "duration": 11,
    "start_time": "2022-09-08T19:26:57.823Z"
   },
   {
    "duration": 44,
    "start_time": "2022-09-08T19:26:57.836Z"
   },
   {
    "duration": 25,
    "start_time": "2022-09-08T19:26:57.883Z"
   },
   {
    "duration": 16,
    "start_time": "2022-09-08T19:26:57.910Z"
   },
   {
    "duration": 27,
    "start_time": "2022-09-08T19:26:57.928Z"
   },
   {
    "duration": 97,
    "start_time": "2022-09-08T19:26:57.956Z"
   },
   {
    "duration": 45,
    "start_time": "2022-09-08T19:27:02.090Z"
   },
   {
    "duration": 4,
    "start_time": "2022-09-08T19:30:34.252Z"
   },
   {
    "duration": 47,
    "start_time": "2022-09-08T19:30:34.262Z"
   },
   {
    "duration": 10,
    "start_time": "2022-09-08T19:30:34.311Z"
   },
   {
    "duration": 36,
    "start_time": "2022-09-08T19:30:34.322Z"
   },
   {
    "duration": 5,
    "start_time": "2022-09-08T19:30:34.359Z"
   },
   {
    "duration": 46,
    "start_time": "2022-09-08T19:30:34.366Z"
   },
   {
    "duration": 22,
    "start_time": "2022-09-08T19:30:34.414Z"
   },
   {
    "duration": 314,
    "start_time": "2022-09-08T19:30:36.058Z"
   },
   {
    "duration": 45,
    "start_time": "2022-09-08T19:30:41.673Z"
   },
   {
    "duration": 3,
    "start_time": "2022-09-08T19:31:08.986Z"
   },
   {
    "duration": 59,
    "start_time": "2022-09-08T19:31:08.994Z"
   },
   {
    "duration": 13,
    "start_time": "2022-09-08T19:31:09.056Z"
   },
   {
    "duration": 43,
    "start_time": "2022-09-08T19:31:09.071Z"
   },
   {
    "duration": 6,
    "start_time": "2022-09-08T19:31:09.117Z"
   },
   {
    "duration": 13,
    "start_time": "2022-09-08T19:31:09.125Z"
   },
   {
    "duration": 22,
    "start_time": "2022-09-08T19:31:09.140Z"
   },
   {
    "duration": 70,
    "start_time": "2022-09-08T19:31:09.164Z"
   },
   {
    "duration": 1478,
    "start_time": "2022-09-10T07:23:21.269Z"
   },
   {
    "duration": 93,
    "start_time": "2022-09-10T07:23:22.750Z"
   },
   {
    "duration": 13,
    "start_time": "2022-09-10T07:23:22.845Z"
   },
   {
    "duration": 52,
    "start_time": "2022-09-10T07:23:22.860Z"
   },
   {
    "duration": 6,
    "start_time": "2022-09-10T07:23:22.914Z"
   },
   {
    "duration": 13,
    "start_time": "2022-09-10T07:23:22.922Z"
   },
   {
    "duration": 39,
    "start_time": "2022-09-10T07:23:22.937Z"
   },
   {
    "duration": 43,
    "start_time": "2022-09-10T07:23:22.978Z"
   },
   {
    "duration": 11,
    "start_time": "2022-09-10T07:34:46.003Z"
   },
   {
    "duration": 4,
    "start_time": "2022-09-10T07:35:06.062Z"
   },
   {
    "duration": 5,
    "start_time": "2022-09-10T07:36:14.017Z"
   },
   {
    "duration": 154,
    "start_time": "2022-09-10T07:54:42.443Z"
   },
   {
    "duration": 4,
    "start_time": "2022-09-10T07:55:14.019Z"
   },
   {
    "duration": 53,
    "start_time": "2022-09-10T07:55:14.026Z"
   },
   {
    "duration": 10,
    "start_time": "2022-09-10T07:55:14.081Z"
   },
   {
    "duration": 35,
    "start_time": "2022-09-10T07:55:14.093Z"
   },
   {
    "duration": 5,
    "start_time": "2022-09-10T07:55:14.130Z"
   },
   {
    "duration": 12,
    "start_time": "2022-09-10T07:55:14.136Z"
   },
   {
    "duration": 48,
    "start_time": "2022-09-10T07:55:14.149Z"
   },
   {
    "duration": 41,
    "start_time": "2022-09-10T07:55:14.199Z"
   },
   {
    "duration": 10,
    "start_time": "2022-09-10T07:55:14.242Z"
   },
   {
    "duration": 3,
    "start_time": "2022-09-10T07:55:14.253Z"
   },
   {
    "duration": 5,
    "start_time": "2022-09-10T07:55:14.277Z"
   },
   {
    "duration": 61,
    "start_time": "2022-09-10T07:55:14.284Z"
   },
   {
    "duration": 84,
    "start_time": "2022-09-10T09:35:23.126Z"
   },
   {
    "duration": 183,
    "start_time": "2022-09-10T09:39:10.588Z"
   },
   {
    "duration": 6665,
    "start_time": "2022-09-10T09:41:30.408Z"
   },
   {
    "duration": 43695,
    "start_time": "2022-09-10T09:42:45.441Z"
   },
   {
    "duration": 3,
    "start_time": "2022-09-10T09:43:29.848Z"
   },
   {
    "duration": 50,
    "start_time": "2022-09-10T09:43:29.855Z"
   },
   {
    "duration": 11,
    "start_time": "2022-09-10T09:43:29.906Z"
   },
   {
    "duration": 41,
    "start_time": "2022-09-10T09:43:29.918Z"
   },
   {
    "duration": 15,
    "start_time": "2022-09-10T09:43:29.961Z"
   },
   {
    "duration": 14,
    "start_time": "2022-09-10T09:43:29.978Z"
   },
   {
    "duration": 22,
    "start_time": "2022-09-10T09:43:29.993Z"
   },
   {
    "duration": 61,
    "start_time": "2022-09-10T09:43:30.017Z"
   },
   {
    "duration": 10,
    "start_time": "2022-09-10T09:43:30.080Z"
   },
   {
    "duration": 28,
    "start_time": "2022-09-10T09:43:30.092Z"
   },
   {
    "duration": 26,
    "start_time": "2022-09-10T09:43:30.122Z"
   },
   {
    "duration": 206,
    "start_time": "2022-09-10T09:43:30.150Z"
   },
   {
    "duration": 43596,
    "start_time": "2022-09-10T09:43:30.357Z"
   },
   {
    "duration": 708,
    "start_time": "2022-09-10T09:44:45.470Z"
   },
   {
    "duration": 1292,
    "start_time": "2022-09-10T09:44:55.136Z"
   },
   {
    "duration": 4,
    "start_time": "2022-09-10T09:45:11.813Z"
   },
   {
    "duration": 55,
    "start_time": "2022-09-10T09:45:11.820Z"
   },
   {
    "duration": 11,
    "start_time": "2022-09-10T09:45:11.876Z"
   },
   {
    "duration": 40,
    "start_time": "2022-09-10T09:45:11.889Z"
   },
   {
    "duration": 5,
    "start_time": "2022-09-10T09:45:11.932Z"
   },
   {
    "duration": 15,
    "start_time": "2022-09-10T09:45:11.939Z"
   },
   {
    "duration": 23,
    "start_time": "2022-09-10T09:45:11.976Z"
   },
   {
    "duration": 43,
    "start_time": "2022-09-10T09:45:12.001Z"
   },
   {
    "duration": 32,
    "start_time": "2022-09-10T09:45:12.046Z"
   },
   {
    "duration": 3,
    "start_time": "2022-09-10T09:45:12.079Z"
   },
   {
    "duration": 6,
    "start_time": "2022-09-10T09:45:12.085Z"
   },
   {
    "duration": 1259,
    "start_time": "2022-09-10T09:45:12.093Z"
   },
   {
    "duration": 44762,
    "start_time": "2022-09-10T09:45:13.354Z"
   },
   {
    "duration": 19750,
    "start_time": "2022-09-10T09:46:30.217Z"
   },
   {
    "duration": 582,
    "start_time": "2022-09-10T09:47:02.208Z"
   },
   {
    "duration": 4,
    "start_time": "2022-09-10T09:47:07.177Z"
   },
   {
    "duration": 58,
    "start_time": "2022-09-10T09:47:07.183Z"
   },
   {
    "duration": 11,
    "start_time": "2022-09-10T09:47:07.243Z"
   },
   {
    "duration": 41,
    "start_time": "2022-09-10T09:47:07.256Z"
   },
   {
    "duration": 7,
    "start_time": "2022-09-10T09:47:07.299Z"
   },
   {
    "duration": 16,
    "start_time": "2022-09-10T09:47:07.307Z"
   },
   {
    "duration": 26,
    "start_time": "2022-09-10T09:47:07.325Z"
   },
   {
    "duration": 67,
    "start_time": "2022-09-10T09:47:07.352Z"
   },
   {
    "duration": 12,
    "start_time": "2022-09-10T09:47:07.421Z"
   },
   {
    "duration": 3,
    "start_time": "2022-09-10T09:47:07.435Z"
   },
   {
    "duration": 6,
    "start_time": "2022-09-10T09:47:07.441Z"
   },
   {
    "duration": 630,
    "start_time": "2022-09-10T09:47:07.449Z"
   },
   {
    "duration": 19149,
    "start_time": "2022-09-10T09:47:08.081Z"
   },
   {
    "duration": 199,
    "start_time": "2022-09-10T09:48:59.179Z"
   },
   {
    "duration": 90,
    "start_time": "2022-09-10T09:49:24.988Z"
   },
   {
    "duration": 17,
    "start_time": "2022-09-10T09:49:37.667Z"
   },
   {
    "duration": 74,
    "start_time": "2022-09-10T09:49:41.803Z"
   },
   {
    "duration": 1508,
    "start_time": "2022-09-10T14:57:24.249Z"
   },
   {
    "duration": 114,
    "start_time": "2022-09-10T14:57:25.759Z"
   },
   {
    "duration": 14,
    "start_time": "2022-09-10T14:57:25.875Z"
   },
   {
    "duration": 41,
    "start_time": "2022-09-10T14:57:25.891Z"
   },
   {
    "duration": 6,
    "start_time": "2022-09-10T14:57:25.934Z"
   },
   {
    "duration": 21,
    "start_time": "2022-09-10T14:57:25.941Z"
   },
   {
    "duration": 24,
    "start_time": "2022-09-10T14:57:25.964Z"
   },
   {
    "duration": 64,
    "start_time": "2022-09-10T14:57:25.989Z"
   },
   {
    "duration": 11,
    "start_time": "2022-09-10T14:57:26.055Z"
   },
   {
    "duration": 4,
    "start_time": "2022-09-10T14:57:26.069Z"
   },
   {
    "duration": 20,
    "start_time": "2022-09-10T14:57:26.074Z"
   },
   {
    "duration": 766,
    "start_time": "2022-09-10T14:58:03.807Z"
   },
   {
    "duration": 21152,
    "start_time": "2022-09-10T14:58:09.628Z"
   },
   {
    "duration": 4,
    "start_time": "2022-09-10T14:59:04.428Z"
   },
   {
    "duration": 57,
    "start_time": "2022-09-10T14:59:04.437Z"
   },
   {
    "duration": 11,
    "start_time": "2022-09-10T14:59:04.496Z"
   },
   {
    "duration": 40,
    "start_time": "2022-09-10T14:59:04.509Z"
   },
   {
    "duration": 6,
    "start_time": "2022-09-10T14:59:04.551Z"
   },
   {
    "duration": 12,
    "start_time": "2022-09-10T14:59:04.559Z"
   },
   {
    "duration": 48,
    "start_time": "2022-09-10T14:59:04.573Z"
   },
   {
    "duration": 47,
    "start_time": "2022-09-10T14:59:04.622Z"
   },
   {
    "duration": 12,
    "start_time": "2022-09-10T14:59:04.670Z"
   },
   {
    "duration": 4,
    "start_time": "2022-09-10T14:59:04.684Z"
   },
   {
    "duration": 31,
    "start_time": "2022-09-10T14:59:04.690Z"
   },
   {
    "duration": 619,
    "start_time": "2022-09-10T14:59:04.722Z"
   },
   {
    "duration": 21072,
    "start_time": "2022-09-10T14:59:05.343Z"
   },
   {
    "duration": 106,
    "start_time": "2022-09-10T14:59:26.420Z"
   },
   {
    "duration": 21183,
    "start_time": "2022-09-10T15:00:35.802Z"
   },
   {
    "duration": 257,
    "start_time": "2022-09-10T15:01:12.663Z"
   },
   {
    "duration": 52,
    "start_time": "2022-09-10T15:03:26.575Z"
   },
   {
    "duration": 4,
    "start_time": "2022-09-10T15:04:46.818Z"
   },
   {
    "duration": 63,
    "start_time": "2022-09-10T15:04:46.826Z"
   },
   {
    "duration": 14,
    "start_time": "2022-09-10T15:04:46.891Z"
   },
   {
    "duration": 50,
    "start_time": "2022-09-10T15:04:46.907Z"
   },
   {
    "duration": 6,
    "start_time": "2022-09-10T15:04:46.959Z"
   },
   {
    "duration": 16,
    "start_time": "2022-09-10T15:04:46.967Z"
   },
   {
    "duration": 46,
    "start_time": "2022-09-10T15:04:46.985Z"
   },
   {
    "duration": 47,
    "start_time": "2022-09-10T15:04:47.033Z"
   },
   {
    "duration": 13,
    "start_time": "2022-09-10T15:04:47.082Z"
   },
   {
    "duration": 5,
    "start_time": "2022-09-10T15:04:47.120Z"
   },
   {
    "duration": 6,
    "start_time": "2022-09-10T15:04:47.128Z"
   },
   {
    "duration": 622,
    "start_time": "2022-09-10T15:04:47.136Z"
   },
   {
    "duration": 20986,
    "start_time": "2022-09-10T15:04:47.760Z"
   },
   {
    "duration": 175,
    "start_time": "2022-09-10T15:05:08.748Z"
   },
   {
    "duration": 296,
    "start_time": "2022-09-10T15:05:08.925Z"
   },
   {
    "duration": 728,
    "start_time": "2022-09-10T15:05:09.224Z"
   },
   {
    "duration": 20764,
    "start_time": "2022-09-10T15:05:09.954Z"
   },
   {
    "duration": 10,
    "start_time": "2022-09-10T15:06:37.972Z"
   },
   {
    "duration": 4,
    "start_time": "2022-09-10T15:07:08.068Z"
   },
   {
    "duration": 4,
    "start_time": "2022-09-10T15:14:16.435Z"
   },
   {
    "duration": 58,
    "start_time": "2022-09-10T15:14:16.443Z"
   },
   {
    "duration": 13,
    "start_time": "2022-09-10T15:14:16.503Z"
   },
   {
    "duration": 42,
    "start_time": "2022-09-10T15:14:16.518Z"
   },
   {
    "duration": 6,
    "start_time": "2022-09-10T15:14:16.562Z"
   },
   {
    "duration": 17,
    "start_time": "2022-09-10T15:14:16.569Z"
   },
   {
    "duration": 47,
    "start_time": "2022-09-10T15:14:16.588Z"
   },
   {
    "duration": 47,
    "start_time": "2022-09-10T15:14:16.637Z"
   },
   {
    "duration": 34,
    "start_time": "2022-09-10T15:14:16.686Z"
   },
   {
    "duration": 4,
    "start_time": "2022-09-10T15:14:16.722Z"
   },
   {
    "duration": 8,
    "start_time": "2022-09-10T15:14:16.730Z"
   },
   {
    "duration": 624,
    "start_time": "2022-09-10T15:14:16.740Z"
   },
   {
    "duration": 21031,
    "start_time": "2022-09-10T15:14:17.366Z"
   },
   {
    "duration": 125,
    "start_time": "2022-09-10T15:14:38.399Z"
   },
   {
    "duration": 97,
    "start_time": "2022-09-10T15:14:38.526Z"
   },
   {
    "duration": 205,
    "start_time": "2022-09-10T15:14:38.625Z"
   },
   {
    "duration": 732,
    "start_time": "2022-09-10T15:14:38.923Z"
   },
   {
    "duration": 21030,
    "start_time": "2022-09-10T15:14:39.657Z"
   },
   {
    "duration": 4,
    "start_time": "2022-09-10T15:15:00.689Z"
   },
   {
    "duration": 67,
    "start_time": "2022-09-10T15:15:00.694Z"
   },
   {
    "duration": 4,
    "start_time": "2022-09-10T15:18:40.991Z"
   },
   {
    "duration": 84,
    "start_time": "2022-09-10T15:18:40.999Z"
   },
   {
    "duration": 11,
    "start_time": "2022-09-10T15:18:41.085Z"
   },
   {
    "duration": 54,
    "start_time": "2022-09-10T15:18:41.098Z"
   },
   {
    "duration": 6,
    "start_time": "2022-09-10T15:18:41.154Z"
   },
   {
    "duration": 16,
    "start_time": "2022-09-10T15:18:41.161Z"
   },
   {
    "duration": 26,
    "start_time": "2022-09-10T15:18:41.178Z"
   },
   {
    "duration": 47,
    "start_time": "2022-09-10T15:18:41.221Z"
   },
   {
    "duration": 13,
    "start_time": "2022-09-10T15:18:41.271Z"
   },
   {
    "duration": 4,
    "start_time": "2022-09-10T15:18:41.285Z"
   },
   {
    "duration": 6,
    "start_time": "2022-09-10T15:18:41.320Z"
   },
   {
    "duration": 624,
    "start_time": "2022-09-10T15:18:41.328Z"
   },
   {
    "duration": 21091,
    "start_time": "2022-09-10T15:18:41.954Z"
   },
   {
    "duration": 180,
    "start_time": "2022-09-10T15:19:03.047Z"
   },
   {
    "duration": 93,
    "start_time": "2022-09-10T15:19:03.229Z"
   },
   {
    "duration": 200,
    "start_time": "2022-09-10T15:19:03.324Z"
   },
   {
    "duration": 719,
    "start_time": "2022-09-10T15:19:03.526Z"
   },
   {
    "duration": 20940,
    "start_time": "2022-09-10T15:19:04.247Z"
   },
   {
    "duration": 4,
    "start_time": "2022-09-10T15:19:25.189Z"
   },
   {
    "duration": 69,
    "start_time": "2022-09-10T15:19:25.195Z"
   },
   {
    "duration": 4,
    "start_time": "2022-09-10T15:20:39.957Z"
   },
   {
    "duration": 62,
    "start_time": "2022-09-10T15:20:39.965Z"
   },
   {
    "duration": 13,
    "start_time": "2022-09-10T15:20:40.029Z"
   },
   {
    "duration": 58,
    "start_time": "2022-09-10T15:20:40.044Z"
   },
   {
    "duration": 7,
    "start_time": "2022-09-10T15:20:40.104Z"
   },
   {
    "duration": 21,
    "start_time": "2022-09-10T15:20:40.120Z"
   },
   {
    "duration": 40,
    "start_time": "2022-09-10T15:20:40.143Z"
   },
   {
    "duration": 58,
    "start_time": "2022-09-10T15:20:40.186Z"
   },
   {
    "duration": 13,
    "start_time": "2022-09-10T15:20:40.246Z"
   },
   {
    "duration": 10,
    "start_time": "2022-09-10T15:20:40.261Z"
   },
   {
    "duration": 26,
    "start_time": "2022-09-10T15:20:40.274Z"
   },
   {
    "duration": 650,
    "start_time": "2022-09-10T15:20:40.302Z"
   },
   {
    "duration": 21382,
    "start_time": "2022-09-10T15:20:40.954Z"
   },
   {
    "duration": 184,
    "start_time": "2022-09-10T15:21:02.338Z"
   },
   {
    "duration": 99,
    "start_time": "2022-09-10T15:21:02.524Z"
   },
   {
    "duration": 203,
    "start_time": "2022-09-10T15:21:02.625Z"
   },
   {
    "duration": 403,
    "start_time": "2022-09-10T15:21:02.920Z"
   },
   {
    "duration": 10592,
    "start_time": "2022-09-10T15:21:03.325Z"
   },
   {
    "duration": 4,
    "start_time": "2022-09-10T15:21:13.921Z"
   },
   {
    "duration": 61,
    "start_time": "2022-09-10T15:21:13.927Z"
   },
   {
    "duration": 4,
    "start_time": "2022-09-10T15:22:23.194Z"
   },
   {
    "duration": 68,
    "start_time": "2022-09-10T15:22:23.203Z"
   },
   {
    "duration": 13,
    "start_time": "2022-09-10T15:22:23.274Z"
   },
   {
    "duration": 48,
    "start_time": "2022-09-10T15:22:23.288Z"
   },
   {
    "duration": 8,
    "start_time": "2022-09-10T15:22:23.340Z"
   },
   {
    "duration": 16,
    "start_time": "2022-09-10T15:22:23.350Z"
   },
   {
    "duration": 27,
    "start_time": "2022-09-10T15:22:23.368Z"
   },
   {
    "duration": 74,
    "start_time": "2022-09-10T15:22:23.397Z"
   },
   {
    "duration": 12,
    "start_time": "2022-09-10T15:22:23.473Z"
   },
   {
    "duration": 18,
    "start_time": "2022-09-10T15:22:23.487Z"
   },
   {
    "duration": 27,
    "start_time": "2022-09-10T15:22:23.521Z"
   },
   {
    "duration": 342,
    "start_time": "2022-09-10T15:22:23.551Z"
   },
   {
    "duration": 11491,
    "start_time": "2022-09-10T15:22:23.895Z"
   },
   {
    "duration": 240,
    "start_time": "2022-09-10T15:22:35.389Z"
   },
   {
    "duration": 93,
    "start_time": "2022-09-10T15:22:35.631Z"
   },
   {
    "duration": 193,
    "start_time": "2022-09-10T15:22:35.728Z"
   },
   {
    "duration": 427,
    "start_time": "2022-09-10T15:22:35.927Z"
   },
   {
    "duration": 11550,
    "start_time": "2022-09-10T15:22:36.356Z"
   },
   {
    "duration": 4,
    "start_time": "2022-09-10T15:22:47.908Z"
   },
   {
    "duration": 78,
    "start_time": "2022-09-10T15:22:47.920Z"
   },
   {
    "duration": 5,
    "start_time": "2022-09-10T15:25:24.338Z"
   },
   {
    "duration": 3,
    "start_time": "2022-09-10T15:25:25.781Z"
   },
   {
    "duration": 2,
    "start_time": "2022-09-10T15:27:33.211Z"
   },
   {
    "duration": 10,
    "start_time": "2022-09-10T15:39:03.625Z"
   },
   {
    "duration": 4,
    "start_time": "2022-09-10T15:40:25.100Z"
   },
   {
    "duration": 69,
    "start_time": "2022-09-10T15:40:25.109Z"
   },
   {
    "duration": 14,
    "start_time": "2022-09-10T15:40:25.180Z"
   },
   {
    "duration": 47,
    "start_time": "2022-09-10T15:40:25.196Z"
   },
   {
    "duration": 6,
    "start_time": "2022-09-10T15:40:25.245Z"
   },
   {
    "duration": 30,
    "start_time": "2022-09-10T15:40:25.253Z"
   },
   {
    "duration": 32,
    "start_time": "2022-09-10T15:40:25.285Z"
   },
   {
    "duration": 51,
    "start_time": "2022-09-10T15:40:25.325Z"
   },
   {
    "duration": 11,
    "start_time": "2022-09-10T15:40:25.378Z"
   },
   {
    "duration": 4,
    "start_time": "2022-09-10T15:40:25.390Z"
   },
   {
    "duration": 36,
    "start_time": "2022-09-10T15:40:25.396Z"
   },
   {
    "duration": 304,
    "start_time": "2022-09-10T15:40:25.434Z"
   },
   {
    "duration": 10542,
    "start_time": "2022-09-10T15:40:25.740Z"
   },
   {
    "duration": 46,
    "start_time": "2022-09-10T15:40:36.284Z"
   },
   {
    "duration": 97,
    "start_time": "2022-09-10T15:40:36.332Z"
   },
   {
    "duration": 113,
    "start_time": "2022-09-10T15:40:36.431Z"
   },
   {
    "duration": 507,
    "start_time": "2022-09-10T15:40:36.546Z"
   },
   {
    "duration": 10737,
    "start_time": "2022-09-10T15:40:37.055Z"
   },
   {
    "duration": 34,
    "start_time": "2022-09-10T15:40:47.794Z"
   },
   {
    "duration": 0,
    "start_time": "2022-09-10T15:40:47.833Z"
   },
   {
    "duration": 0,
    "start_time": "2022-09-10T15:40:47.834Z"
   },
   {
    "duration": 0,
    "start_time": "2022-09-10T15:40:47.834Z"
   },
   {
    "duration": 4,
    "start_time": "2022-09-10T15:43:26.042Z"
   },
   {
    "duration": 69,
    "start_time": "2022-09-10T15:43:26.050Z"
   },
   {
    "duration": 19,
    "start_time": "2022-09-10T15:43:26.122Z"
   },
   {
    "duration": 55,
    "start_time": "2022-09-10T15:43:26.144Z"
   },
   {
    "duration": 7,
    "start_time": "2022-09-10T15:43:26.202Z"
   },
   {
    "duration": 19,
    "start_time": "2022-09-10T15:43:26.221Z"
   },
   {
    "duration": 37,
    "start_time": "2022-09-10T15:43:26.243Z"
   },
   {
    "duration": 67,
    "start_time": "2022-09-10T15:43:26.283Z"
   },
   {
    "duration": 14,
    "start_time": "2022-09-10T15:43:26.352Z"
   },
   {
    "duration": 12,
    "start_time": "2022-09-10T15:43:26.368Z"
   },
   {
    "duration": 14,
    "start_time": "2022-09-10T15:43:26.383Z"
   },
   {
    "duration": 340,
    "start_time": "2022-09-10T15:43:26.399Z"
   },
   {
    "duration": 11886,
    "start_time": "2022-09-10T15:43:26.741Z"
   },
   {
    "duration": 102,
    "start_time": "2022-09-10T15:43:38.629Z"
   },
   {
    "duration": 138,
    "start_time": "2022-09-10T15:43:38.737Z"
   },
   {
    "duration": 84,
    "start_time": "2022-09-10T15:43:38.877Z"
   },
   {
    "duration": 534,
    "start_time": "2022-09-10T15:43:38.970Z"
   },
   {
    "duration": 12149,
    "start_time": "2022-09-10T15:43:39.507Z"
   },
   {
    "duration": 15,
    "start_time": "2022-09-10T15:43:51.658Z"
   },
   {
    "duration": 76,
    "start_time": "2022-09-10T15:43:51.676Z"
   },
   {
    "duration": 15,
    "start_time": "2022-09-10T15:43:51.821Z"
   },
   {
    "duration": 171,
    "start_time": "2022-09-10T15:43:51.840Z"
   },
   {
    "duration": 434,
    "start_time": "2022-09-10T15:49:49.761Z"
   },
   {
    "duration": 404,
    "start_time": "2022-09-10T15:50:35.539Z"
   },
   {
    "duration": 4,
    "start_time": "2022-09-10T15:50:41.813Z"
   },
   {
    "duration": 69,
    "start_time": "2022-09-10T15:50:41.826Z"
   },
   {
    "duration": 13,
    "start_time": "2022-09-10T15:50:41.897Z"
   },
   {
    "duration": 46,
    "start_time": "2022-09-10T15:50:41.912Z"
   },
   {
    "duration": 6,
    "start_time": "2022-09-10T15:50:41.960Z"
   },
   {
    "duration": 13,
    "start_time": "2022-09-10T15:50:41.968Z"
   },
   {
    "duration": 59,
    "start_time": "2022-09-10T15:50:41.983Z"
   },
   {
    "duration": 47,
    "start_time": "2022-09-10T15:50:42.044Z"
   },
   {
    "duration": 11,
    "start_time": "2022-09-10T15:50:42.093Z"
   },
   {
    "duration": 27,
    "start_time": "2022-09-10T15:50:42.106Z"
   },
   {
    "duration": 12,
    "start_time": "2022-09-10T15:50:42.136Z"
   },
   {
    "duration": 331,
    "start_time": "2022-09-10T15:50:42.150Z"
   },
   {
    "duration": 11043,
    "start_time": "2022-09-10T15:50:42.483Z"
   },
   {
    "duration": 91,
    "start_time": "2022-09-10T15:50:53.533Z"
   },
   {
    "duration": 5,
    "start_time": "2022-09-10T15:50:53.627Z"
   },
   {
    "duration": 140,
    "start_time": "2022-09-10T15:50:53.633Z"
   },
   {
    "duration": 505,
    "start_time": "2022-09-10T15:50:53.775Z"
   },
   {
    "duration": 11306,
    "start_time": "2022-09-10T15:50:54.282Z"
   },
   {
    "duration": 10,
    "start_time": "2022-09-10T15:51:05.590Z"
   },
   {
    "duration": 130,
    "start_time": "2022-09-10T15:51:05.602Z"
   },
   {
    "duration": 136,
    "start_time": "2022-09-10T15:51:05.737Z"
   },
   {
    "duration": 515,
    "start_time": "2022-09-10T15:51:05.922Z"
   },
   {
    "duration": 4,
    "start_time": "2022-09-10T15:51:06.442Z"
   },
   {
    "duration": 63,
    "start_time": "2022-09-10T15:51:06.449Z"
   },
   {
    "duration": 435,
    "start_time": "2022-09-10T15:51:47.003Z"
   },
   {
    "duration": 423,
    "start_time": "2022-09-10T15:53:13.618Z"
   },
   {
    "duration": 6,
    "start_time": "2022-09-10T15:53:18.963Z"
   },
   {
    "duration": 119,
    "start_time": "2022-09-10T15:53:18.972Z"
   },
   {
    "duration": 18,
    "start_time": "2022-09-10T15:53:19.093Z"
   },
   {
    "duration": 92,
    "start_time": "2022-09-10T15:53:19.114Z"
   },
   {
    "duration": 13,
    "start_time": "2022-09-10T15:53:19.208Z"
   },
   {
    "duration": 79,
    "start_time": "2022-09-10T15:53:19.222Z"
   },
   {
    "duration": 57,
    "start_time": "2022-09-10T15:53:19.304Z"
   },
   {
    "duration": 50,
    "start_time": "2022-09-10T15:53:19.363Z"
   },
   {
    "duration": 24,
    "start_time": "2022-09-10T15:53:19.416Z"
   },
   {
    "duration": 11,
    "start_time": "2022-09-10T15:53:19.443Z"
   },
   {
    "duration": 12,
    "start_time": "2022-09-10T15:53:19.456Z"
   },
   {
    "duration": 341,
    "start_time": "2022-09-10T15:53:19.469Z"
   },
   {
    "duration": 11517,
    "start_time": "2022-09-10T15:53:19.812Z"
   },
   {
    "duration": 25,
    "start_time": "2022-09-10T15:53:31.331Z"
   },
   {
    "duration": 127,
    "start_time": "2022-09-10T15:53:31.424Z"
   },
   {
    "duration": 69,
    "start_time": "2022-09-10T15:53:31.553Z"
   },
   {
    "duration": 440,
    "start_time": "2022-09-10T15:53:31.626Z"
   },
   {
    "duration": 11119,
    "start_time": "2022-09-10T15:53:32.068Z"
   },
   {
    "duration": 10,
    "start_time": "2022-09-10T15:53:43.189Z"
   },
   {
    "duration": 48,
    "start_time": "2022-09-10T15:53:43.200Z"
   },
   {
    "duration": 279,
    "start_time": "2022-09-10T15:53:43.250Z"
   },
   {
    "duration": 483,
    "start_time": "2022-09-10T15:53:43.532Z"
   },
   {
    "duration": 5,
    "start_time": "2022-09-10T15:53:44.017Z"
   },
   {
    "duration": 71,
    "start_time": "2022-09-10T15:53:44.026Z"
   },
   {
    "duration": 15137,
    "start_time": "2022-09-10T15:57:40.506Z"
   },
   {
    "duration": 6,
    "start_time": "2022-09-10T15:59:54.245Z"
   },
   {
    "duration": 77,
    "start_time": "2022-09-10T15:59:54.253Z"
   },
   {
    "duration": 16,
    "start_time": "2022-09-10T15:59:54.332Z"
   },
   {
    "duration": 46,
    "start_time": "2022-09-10T15:59:54.350Z"
   },
   {
    "duration": 5,
    "start_time": "2022-09-10T15:59:54.399Z"
   },
   {
    "duration": 33,
    "start_time": "2022-09-10T15:59:54.406Z"
   },
   {
    "duration": 35,
    "start_time": "2022-09-10T15:59:54.441Z"
   },
   {
    "duration": 69,
    "start_time": "2022-09-10T15:59:54.478Z"
   },
   {
    "duration": 13,
    "start_time": "2022-09-10T15:59:54.549Z"
   },
   {
    "duration": 17,
    "start_time": "2022-09-10T15:59:54.564Z"
   },
   {
    "duration": 19,
    "start_time": "2022-09-10T15:59:54.584Z"
   },
   {
    "duration": 331,
    "start_time": "2022-09-10T15:59:54.605Z"
   },
   {
    "duration": 11426,
    "start_time": "2022-09-10T15:59:54.938Z"
   },
   {
    "duration": 64,
    "start_time": "2022-09-10T16:00:06.366Z"
   },
   {
    "duration": 111,
    "start_time": "2022-09-10T16:00:06.435Z"
   },
   {
    "duration": 180,
    "start_time": "2022-09-10T16:00:06.549Z"
   },
   {
    "duration": 366,
    "start_time": "2022-09-10T16:00:06.734Z"
   },
   {
    "duration": 11291,
    "start_time": "2022-09-10T16:00:07.102Z"
   },
   {
    "duration": 10,
    "start_time": "2022-09-10T16:00:18.395Z"
   },
   {
    "duration": 116,
    "start_time": "2022-09-10T16:00:18.407Z"
   },
   {
    "duration": 122,
    "start_time": "2022-09-10T16:00:18.525Z"
   },
   {
    "duration": 683,
    "start_time": "2022-09-10T16:00:18.650Z"
   },
   {
    "duration": 15569,
    "start_time": "2022-09-10T16:00:19.334Z"
   },
   {
    "duration": 4,
    "start_time": "2022-09-10T16:00:34.904Z"
   },
   {
    "duration": 90,
    "start_time": "2022-09-10T16:00:34.910Z"
   },
   {
    "duration": 46,
    "start_time": "2022-09-10T16:00:35.002Z"
   },
   {
    "duration": 49,
    "start_time": "2022-09-11T09:55:44.649Z"
   },
   {
    "duration": 1543,
    "start_time": "2022-09-11T09:56:00.378Z"
   },
   {
    "duration": 96,
    "start_time": "2022-09-11T09:56:01.923Z"
   },
   {
    "duration": 13,
    "start_time": "2022-09-11T09:56:02.020Z"
   },
   {
    "duration": 53,
    "start_time": "2022-09-11T09:56:02.035Z"
   },
   {
    "duration": 6,
    "start_time": "2022-09-11T09:56:02.090Z"
   },
   {
    "duration": 30,
    "start_time": "2022-09-11T09:56:02.098Z"
   },
   {
    "duration": 56,
    "start_time": "2022-09-11T09:56:02.130Z"
   },
   {
    "duration": 39,
    "start_time": "2022-09-11T09:56:02.188Z"
   },
   {
    "duration": 95,
    "start_time": "2022-09-11T09:56:02.229Z"
   },
   {
    "duration": 0,
    "start_time": "2022-09-11T09:56:02.325Z"
   },
   {
    "duration": 0,
    "start_time": "2022-09-11T09:56:02.328Z"
   },
   {
    "duration": 0,
    "start_time": "2022-09-11T09:56:02.329Z"
   },
   {
    "duration": 0,
    "start_time": "2022-09-11T09:56:02.330Z"
   },
   {
    "duration": 0,
    "start_time": "2022-09-11T09:56:02.331Z"
   },
   {
    "duration": 0,
    "start_time": "2022-09-11T09:56:02.333Z"
   },
   {
    "duration": 0,
    "start_time": "2022-09-11T09:56:02.333Z"
   },
   {
    "duration": 0,
    "start_time": "2022-09-11T09:56:02.334Z"
   },
   {
    "duration": 0,
    "start_time": "2022-09-11T09:56:02.335Z"
   },
   {
    "duration": 0,
    "start_time": "2022-09-11T09:56:02.337Z"
   },
   {
    "duration": 0,
    "start_time": "2022-09-11T09:56:02.337Z"
   },
   {
    "duration": 0,
    "start_time": "2022-09-11T09:56:02.338Z"
   },
   {
    "duration": 0,
    "start_time": "2022-09-11T09:56:02.339Z"
   },
   {
    "duration": 0,
    "start_time": "2022-09-11T09:56:02.340Z"
   },
   {
    "duration": 0,
    "start_time": "2022-09-11T09:56:02.341Z"
   },
   {
    "duration": 0,
    "start_time": "2022-09-11T09:56:02.342Z"
   },
   {
    "duration": 3,
    "start_time": "2022-09-11T09:58:32.083Z"
   },
   {
    "duration": 72,
    "start_time": "2022-09-11T09:58:32.089Z"
   },
   {
    "duration": 10,
    "start_time": "2022-09-11T09:58:32.163Z"
   },
   {
    "duration": 33,
    "start_time": "2022-09-11T09:58:32.174Z"
   },
   {
    "duration": 5,
    "start_time": "2022-09-11T09:58:32.209Z"
   },
   {
    "duration": 18,
    "start_time": "2022-09-11T09:58:32.215Z"
   },
   {
    "duration": 22,
    "start_time": "2022-09-11T09:58:32.235Z"
   },
   {
    "duration": 52,
    "start_time": "2022-09-11T09:58:32.258Z"
   },
   {
    "duration": 7,
    "start_time": "2022-09-11T09:58:32.311Z"
   },
   {
    "duration": 0,
    "start_time": "2022-09-11T09:58:32.320Z"
   },
   {
    "duration": 0,
    "start_time": "2022-09-11T09:58:32.321Z"
   },
   {
    "duration": 0,
    "start_time": "2022-09-11T09:58:32.322Z"
   },
   {
    "duration": 0,
    "start_time": "2022-09-11T09:58:32.322Z"
   },
   {
    "duration": 0,
    "start_time": "2022-09-11T09:58:32.323Z"
   },
   {
    "duration": 0,
    "start_time": "2022-09-11T09:58:32.324Z"
   },
   {
    "duration": 0,
    "start_time": "2022-09-11T09:58:32.325Z"
   },
   {
    "duration": 1,
    "start_time": "2022-09-11T09:58:32.325Z"
   },
   {
    "duration": 0,
    "start_time": "2022-09-11T09:58:32.326Z"
   },
   {
    "duration": 0,
    "start_time": "2022-09-11T09:58:32.327Z"
   },
   {
    "duration": 0,
    "start_time": "2022-09-11T09:58:32.328Z"
   },
   {
    "duration": 0,
    "start_time": "2022-09-11T09:58:32.328Z"
   },
   {
    "duration": 0,
    "start_time": "2022-09-11T09:58:32.329Z"
   },
   {
    "duration": 0,
    "start_time": "2022-09-11T09:58:32.330Z"
   },
   {
    "duration": 0,
    "start_time": "2022-09-11T09:58:32.330Z"
   },
   {
    "duration": 0,
    "start_time": "2022-09-11T09:58:32.332Z"
   },
   {
    "duration": 3,
    "start_time": "2022-09-11T10:00:02.730Z"
   },
   {
    "duration": 60,
    "start_time": "2022-09-11T10:00:02.737Z"
   },
   {
    "duration": 12,
    "start_time": "2022-09-11T10:00:02.798Z"
   },
   {
    "duration": 41,
    "start_time": "2022-09-11T10:00:02.811Z"
   },
   {
    "duration": 5,
    "start_time": "2022-09-11T10:00:02.854Z"
   },
   {
    "duration": 15,
    "start_time": "2022-09-11T10:00:02.860Z"
   },
   {
    "duration": 33,
    "start_time": "2022-09-11T10:00:02.877Z"
   },
   {
    "duration": 41,
    "start_time": "2022-09-11T10:00:02.911Z"
   },
   {
    "duration": 7,
    "start_time": "2022-09-11T10:00:02.954Z"
   },
   {
    "duration": 0,
    "start_time": "2022-09-11T10:00:02.963Z"
   },
   {
    "duration": 0,
    "start_time": "2022-09-11T10:00:02.964Z"
   },
   {
    "duration": 0,
    "start_time": "2022-09-11T10:00:02.965Z"
   },
   {
    "duration": 0,
    "start_time": "2022-09-11T10:00:02.966Z"
   },
   {
    "duration": 0,
    "start_time": "2022-09-11T10:00:02.967Z"
   },
   {
    "duration": 0,
    "start_time": "2022-09-11T10:00:02.968Z"
   },
   {
    "duration": 0,
    "start_time": "2022-09-11T10:00:02.969Z"
   },
   {
    "duration": 0,
    "start_time": "2022-09-11T10:00:02.969Z"
   },
   {
    "duration": 0,
    "start_time": "2022-09-11T10:00:02.970Z"
   },
   {
    "duration": 0,
    "start_time": "2022-09-11T10:00:02.971Z"
   },
   {
    "duration": 0,
    "start_time": "2022-09-11T10:00:02.972Z"
   },
   {
    "duration": 0,
    "start_time": "2022-09-11T10:00:02.973Z"
   },
   {
    "duration": 0,
    "start_time": "2022-09-11T10:00:02.974Z"
   },
   {
    "duration": 0,
    "start_time": "2022-09-11T10:00:02.975Z"
   },
   {
    "duration": 0,
    "start_time": "2022-09-11T10:00:03.009Z"
   },
   {
    "duration": 0,
    "start_time": "2022-09-11T10:00:03.010Z"
   },
   {
    "duration": 1260,
    "start_time": "2022-09-11T10:00:36.554Z"
   },
   {
    "duration": 53,
    "start_time": "2022-09-11T10:00:37.815Z"
   },
   {
    "duration": 11,
    "start_time": "2022-09-11T10:00:37.870Z"
   },
   {
    "duration": 36,
    "start_time": "2022-09-11T10:00:37.883Z"
   },
   {
    "duration": 5,
    "start_time": "2022-09-11T10:00:37.921Z"
   },
   {
    "duration": 12,
    "start_time": "2022-09-11T10:00:37.927Z"
   },
   {
    "duration": 22,
    "start_time": "2022-09-11T10:00:37.940Z"
   },
   {
    "duration": 69,
    "start_time": "2022-09-11T10:00:37.964Z"
   },
   {
    "duration": 124,
    "start_time": "2022-09-11T10:00:38.035Z"
   },
   {
    "duration": 0,
    "start_time": "2022-09-11T10:00:38.160Z"
   },
   {
    "duration": 0,
    "start_time": "2022-09-11T10:00:38.161Z"
   },
   {
    "duration": 0,
    "start_time": "2022-09-11T10:00:38.162Z"
   },
   {
    "duration": 0,
    "start_time": "2022-09-11T10:00:38.163Z"
   },
   {
    "duration": 0,
    "start_time": "2022-09-11T10:00:38.164Z"
   },
   {
    "duration": 0,
    "start_time": "2022-09-11T10:00:38.165Z"
   },
   {
    "duration": 0,
    "start_time": "2022-09-11T10:00:38.165Z"
   },
   {
    "duration": 0,
    "start_time": "2022-09-11T10:00:38.166Z"
   },
   {
    "duration": 0,
    "start_time": "2022-09-11T10:00:38.167Z"
   },
   {
    "duration": 0,
    "start_time": "2022-09-11T10:00:38.168Z"
   },
   {
    "duration": 0,
    "start_time": "2022-09-11T10:00:38.169Z"
   },
   {
    "duration": 0,
    "start_time": "2022-09-11T10:00:38.170Z"
   },
   {
    "duration": 0,
    "start_time": "2022-09-11T10:00:38.171Z"
   },
   {
    "duration": 0,
    "start_time": "2022-09-11T10:00:38.172Z"
   },
   {
    "duration": 0,
    "start_time": "2022-09-11T10:00:38.173Z"
   },
   {
    "duration": 0,
    "start_time": "2022-09-11T10:00:38.174Z"
   },
   {
    "duration": 4,
    "start_time": "2022-09-11T10:02:19.529Z"
   },
   {
    "duration": 53,
    "start_time": "2022-09-11T10:02:19.537Z"
   },
   {
    "duration": 11,
    "start_time": "2022-09-11T10:02:19.592Z"
   },
   {
    "duration": 36,
    "start_time": "2022-09-11T10:02:19.604Z"
   },
   {
    "duration": 5,
    "start_time": "2022-09-11T10:02:19.642Z"
   },
   {
    "duration": 12,
    "start_time": "2022-09-11T10:02:19.648Z"
   },
   {
    "duration": 23,
    "start_time": "2022-09-11T10:02:19.661Z"
   },
   {
    "duration": 48,
    "start_time": "2022-09-11T10:02:19.708Z"
   },
   {
    "duration": 10,
    "start_time": "2022-09-11T10:02:19.758Z"
   },
   {
    "duration": 4,
    "start_time": "2022-09-11T10:02:19.770Z"
   },
   {
    "duration": 5,
    "start_time": "2022-09-11T10:02:19.777Z"
   },
   {
    "duration": 27,
    "start_time": "2022-09-11T10:02:19.784Z"
   },
   {
    "duration": 315,
    "start_time": "2022-09-11T10:02:19.813Z"
   },
   {
    "duration": 10350,
    "start_time": "2022-09-11T10:02:20.130Z"
   },
   {
    "duration": 32,
    "start_time": "2022-09-11T10:02:30.482Z"
   },
   {
    "duration": 105,
    "start_time": "2022-09-11T10:02:30.516Z"
   },
   {
    "duration": 429,
    "start_time": "2022-09-11T10:02:30.708Z"
   },
   {
    "duration": 10236,
    "start_time": "2022-09-11T10:02:31.139Z"
   },
   {
    "duration": 10,
    "start_time": "2022-09-11T10:02:41.376Z"
   },
   {
    "duration": 29,
    "start_time": "2022-09-11T10:02:41.387Z"
   },
   {
    "duration": 560,
    "start_time": "2022-09-11T10:02:41.418Z"
   },
   {
    "duration": 13868,
    "start_time": "2022-09-11T10:02:41.980Z"
   },
   {
    "duration": 5,
    "start_time": "2022-09-11T10:02:55.849Z"
   },
   {
    "duration": 56,
    "start_time": "2022-09-11T10:02:55.856Z"
   },
   {
    "duration": 31,
    "start_time": "2022-09-11T10:02:55.914Z"
   },
   {
    "duration": 45,
    "start_time": "2022-09-11T11:48:24.794Z"
   },
   {
    "duration": 123,
    "start_time": "2022-09-11T11:48:43.945Z"
   },
   {
    "duration": 1405,
    "start_time": "2022-09-11T11:48:51.058Z"
   },
   {
    "duration": 108,
    "start_time": "2022-09-11T11:48:52.465Z"
   },
   {
    "duration": 16,
    "start_time": "2022-09-11T11:48:52.575Z"
   },
   {
    "duration": 42,
    "start_time": "2022-09-11T11:48:52.593Z"
   },
   {
    "duration": 6,
    "start_time": "2022-09-11T11:48:52.637Z"
   },
   {
    "duration": 21,
    "start_time": "2022-09-11T11:48:52.644Z"
   },
   {
    "duration": 29,
    "start_time": "2022-09-11T11:48:52.667Z"
   },
   {
    "duration": 57,
    "start_time": "2022-09-11T11:48:52.697Z"
   },
   {
    "duration": 12,
    "start_time": "2022-09-11T11:48:52.756Z"
   },
   {
    "duration": 14,
    "start_time": "2022-09-11T11:48:52.770Z"
   },
   {
    "duration": 15,
    "start_time": "2022-09-11T11:48:52.786Z"
   },
   {
    "duration": 4,
    "start_time": "2022-09-11T11:48:52.808Z"
   },
   {
    "duration": 307,
    "start_time": "2022-09-11T11:48:52.813Z"
   },
   {
    "duration": 9880,
    "start_time": "2022-09-11T11:48:53.121Z"
   },
   {
    "duration": 23,
    "start_time": "2022-09-11T11:49:03.002Z"
   },
   {
    "duration": 193,
    "start_time": "2022-09-11T11:49:03.026Z"
   },
   {
    "duration": 492,
    "start_time": "2022-09-11T11:49:03.221Z"
   },
   {
    "duration": 9933,
    "start_time": "2022-09-11T11:49:03.714Z"
   },
   {
    "duration": 10,
    "start_time": "2022-09-11T11:49:13.649Z"
   },
   {
    "duration": 55,
    "start_time": "2022-09-11T11:49:13.661Z"
   },
   {
    "duration": 579,
    "start_time": "2022-09-11T11:49:13.717Z"
   },
   {
    "duration": 13624,
    "start_time": "2022-09-11T11:49:15.718Z"
   },
   {
    "duration": 46,
    "start_time": "2022-09-11T11:57:18.864Z"
   },
   {
    "duration": 4,
    "start_time": "2022-09-11T11:57:27.489Z"
   },
   {
    "duration": 53,
    "start_time": "2022-09-11T11:57:27.496Z"
   },
   {
    "duration": 10,
    "start_time": "2022-09-11T11:57:27.551Z"
   },
   {
    "duration": 32,
    "start_time": "2022-09-11T11:57:27.563Z"
   },
   {
    "duration": 12,
    "start_time": "2022-09-11T11:57:27.597Z"
   },
   {
    "duration": 11,
    "start_time": "2022-09-11T11:57:27.611Z"
   },
   {
    "duration": 21,
    "start_time": "2022-09-11T11:57:27.623Z"
   },
   {
    "duration": 39,
    "start_time": "2022-09-11T11:57:27.645Z"
   },
   {
    "duration": 31,
    "start_time": "2022-09-11T11:57:27.685Z"
   },
   {
    "duration": 2,
    "start_time": "2022-09-11T11:57:27.718Z"
   },
   {
    "duration": 5,
    "start_time": "2022-09-11T11:57:27.722Z"
   },
   {
    "duration": 6,
    "start_time": "2022-09-11T11:57:27.728Z"
   },
   {
    "duration": 307,
    "start_time": "2022-09-11T11:57:27.735Z"
   },
   {
    "duration": 9840,
    "start_time": "2022-09-11T11:57:28.043Z"
   },
   {
    "duration": 33,
    "start_time": "2022-09-11T11:57:37.884Z"
   },
   {
    "duration": 199,
    "start_time": "2022-09-11T11:57:37.918Z"
   },
   {
    "duration": 502,
    "start_time": "2022-09-11T11:57:38.118Z"
   },
   {
    "duration": 9955,
    "start_time": "2022-09-11T11:57:38.622Z"
   },
   {
    "duration": 8,
    "start_time": "2022-09-11T11:57:48.578Z"
   },
   {
    "duration": 29,
    "start_time": "2022-09-11T11:57:48.587Z"
   },
   {
    "duration": 564,
    "start_time": "2022-09-11T11:57:48.617Z"
   },
   {
    "duration": 13588,
    "start_time": "2022-09-11T11:57:49.182Z"
   },
   {
    "duration": 5,
    "start_time": "2022-09-11T11:58:02.772Z"
   },
   {
    "duration": 52,
    "start_time": "2022-09-11T11:58:02.778Z"
   },
   {
    "duration": 31,
    "start_time": "2022-09-11T11:58:02.832Z"
   },
   {
    "duration": 40,
    "start_time": "2022-09-11T11:59:26.250Z"
   },
   {
    "duration": 7,
    "start_time": "2022-09-11T12:01:23.185Z"
   },
   {
    "duration": 89,
    "start_time": "2022-09-11T12:05:54.730Z"
   },
   {
    "duration": 3,
    "start_time": "2022-09-11T12:05:58.473Z"
   },
   {
    "duration": 53,
    "start_time": "2022-09-11T12:05:58.480Z"
   },
   {
    "duration": 12,
    "start_time": "2022-09-11T12:05:58.534Z"
   },
   {
    "duration": 64,
    "start_time": "2022-09-11T12:05:58.547Z"
   },
   {
    "duration": 6,
    "start_time": "2022-09-11T12:05:58.613Z"
   },
   {
    "duration": 15,
    "start_time": "2022-09-11T12:05:58.621Z"
   },
   {
    "duration": 26,
    "start_time": "2022-09-11T12:05:58.638Z"
   },
   {
    "duration": 60,
    "start_time": "2022-09-11T12:05:58.665Z"
   },
   {
    "duration": 9,
    "start_time": "2022-09-11T12:05:58.727Z"
   },
   {
    "duration": 9,
    "start_time": "2022-09-11T12:05:58.738Z"
   },
   {
    "duration": 7,
    "start_time": "2022-09-11T12:05:58.749Z"
   },
   {
    "duration": 16,
    "start_time": "2022-09-11T12:05:58.757Z"
   },
   {
    "duration": 307,
    "start_time": "2022-09-11T12:05:58.775Z"
   },
   {
    "duration": 10197,
    "start_time": "2022-09-11T12:05:59.083Z"
   },
   {
    "duration": 34,
    "start_time": "2022-09-11T12:06:09.282Z"
   },
   {
    "duration": 204,
    "start_time": "2022-09-11T12:06:09.317Z"
   },
   {
    "duration": 495,
    "start_time": "2022-09-11T12:06:09.523Z"
   },
   {
    "duration": 10414,
    "start_time": "2022-09-11T12:06:10.020Z"
   },
   {
    "duration": 9,
    "start_time": "2022-09-11T12:06:20.436Z"
   },
   {
    "duration": 72,
    "start_time": "2022-09-11T12:06:20.447Z"
   },
   {
    "duration": 579,
    "start_time": "2022-09-11T12:06:20.521Z"
   },
   {
    "duration": 14347,
    "start_time": "2022-09-11T12:06:21.101Z"
   },
   {
    "duration": 8,
    "start_time": "2022-09-11T12:06:35.450Z"
   },
   {
    "duration": 17,
    "start_time": "2022-09-11T12:06:35.460Z"
   },
   {
    "duration": 0,
    "start_time": "2022-09-11T12:06:35.479Z"
   },
   {
    "duration": 0,
    "start_time": "2022-09-11T12:06:35.481Z"
   },
   {
    "duration": 0,
    "start_time": "2022-09-11T12:06:35.482Z"
   },
   {
    "duration": 18,
    "start_time": "2022-09-11T12:07:13.453Z"
   },
   {
    "duration": 4,
    "start_time": "2022-09-11T12:09:49.758Z"
   },
   {
    "duration": 428,
    "start_time": "2022-09-11T12:09:51.817Z"
   },
   {
    "duration": 4,
    "start_time": "2022-09-11T12:10:00.929Z"
   },
   {
    "duration": 60,
    "start_time": "2022-09-11T12:10:01.931Z"
   },
   {
    "duration": 42,
    "start_time": "2022-09-11T12:10:03.740Z"
   },
   {
    "duration": 471,
    "start_time": "2022-09-11T12:11:07.090Z"
   },
   {
    "duration": 42,
    "start_time": "2022-09-11T12:15:27.029Z"
   },
   {
    "duration": 46,
    "start_time": "2022-09-11T12:25:42.767Z"
   },
   {
    "duration": 3,
    "start_time": "2022-09-11T12:25:50.272Z"
   },
   {
    "duration": 52,
    "start_time": "2022-09-11T12:25:50.279Z"
   },
   {
    "duration": 10,
    "start_time": "2022-09-11T12:25:50.333Z"
   },
   {
    "duration": 34,
    "start_time": "2022-09-11T12:25:50.345Z"
   },
   {
    "duration": 28,
    "start_time": "2022-09-11T12:25:50.382Z"
   },
   {
    "duration": 11,
    "start_time": "2022-09-11T12:25:50.412Z"
   },
   {
    "duration": 25,
    "start_time": "2022-09-11T12:25:50.425Z"
   },
   {
    "duration": 62,
    "start_time": "2022-09-11T12:25:50.452Z"
   },
   {
    "duration": 10,
    "start_time": "2022-09-11T12:25:50.516Z"
   },
   {
    "duration": 4,
    "start_time": "2022-09-11T12:25:50.528Z"
   },
   {
    "duration": 6,
    "start_time": "2022-09-11T12:25:50.535Z"
   },
   {
    "duration": 8,
    "start_time": "2022-09-11T12:25:50.543Z"
   },
   {
    "duration": 352,
    "start_time": "2022-09-11T12:25:50.552Z"
   },
   {
    "duration": 10377,
    "start_time": "2022-09-11T12:25:50.908Z"
   },
   {
    "duration": 30,
    "start_time": "2022-09-11T12:26:01.287Z"
   },
   {
    "duration": 203,
    "start_time": "2022-09-11T12:26:01.319Z"
   },
   {
    "duration": 508,
    "start_time": "2022-09-11T12:26:01.524Z"
   },
   {
    "duration": 10271,
    "start_time": "2022-09-11T12:26:02.034Z"
   },
   {
    "duration": 9,
    "start_time": "2022-09-11T12:26:12.307Z"
   },
   {
    "duration": 92,
    "start_time": "2022-09-11T12:26:12.318Z"
   },
   {
    "duration": 553,
    "start_time": "2022-09-11T12:26:12.411Z"
   },
   {
    "duration": 14026,
    "start_time": "2022-09-11T12:26:12.966Z"
   },
   {
    "duration": 3,
    "start_time": "2022-09-11T12:26:26.994Z"
   },
   {
    "duration": 65,
    "start_time": "2022-09-11T12:26:26.999Z"
   },
   {
    "duration": 44,
    "start_time": "2022-09-11T12:26:27.067Z"
   },
   {
    "duration": 7,
    "start_time": "2022-09-11T12:27:51.154Z"
   },
   {
    "duration": 3,
    "start_time": "2022-09-11T12:28:01.878Z"
   },
   {
    "duration": 50,
    "start_time": "2022-09-11T12:28:01.885Z"
   },
   {
    "duration": 13,
    "start_time": "2022-09-11T12:28:01.937Z"
   },
   {
    "duration": 41,
    "start_time": "2022-09-11T12:28:01.952Z"
   },
   {
    "duration": 52,
    "start_time": "2022-09-11T12:28:05.121Z"
   },
   {
    "duration": 2247,
    "start_time": "2022-09-11T12:28:07.451Z"
   },
   {
    "duration": 45,
    "start_time": "2022-09-11T12:30:42.043Z"
   },
   {
    "duration": 6,
    "start_time": "2022-09-11T12:36:02.512Z"
   },
   {
    "duration": 92,
    "start_time": "2022-09-11T12:36:02.523Z"
   },
   {
    "duration": 13,
    "start_time": "2022-09-11T12:36:02.617Z"
   },
   {
    "duration": 62,
    "start_time": "2022-09-11T12:36:02.632Z"
   },
   {
    "duration": 6,
    "start_time": "2022-09-11T12:36:02.697Z"
   },
   {
    "duration": 23,
    "start_time": "2022-09-11T12:36:02.704Z"
   },
   {
    "duration": 44,
    "start_time": "2022-09-11T12:36:02.729Z"
   },
   {
    "duration": 69,
    "start_time": "2022-09-11T12:36:02.775Z"
   },
   {
    "duration": 11,
    "start_time": "2022-09-11T12:36:02.846Z"
   },
   {
    "duration": 21,
    "start_time": "2022-09-11T12:36:02.858Z"
   },
   {
    "duration": 31,
    "start_time": "2022-09-11T12:36:02.882Z"
   },
   {
    "duration": 14,
    "start_time": "2022-09-11T12:36:02.914Z"
   },
   {
    "duration": 203,
    "start_time": "2022-09-11T12:36:08.879Z"
   },
   {
    "duration": 205,
    "start_time": "2022-09-11T12:50:05.847Z"
   },
   {
    "duration": 100,
    "start_time": "2022-09-11T12:55:12.110Z"
   },
   {
    "duration": 3,
    "start_time": "2022-09-11T12:55:17.323Z"
   },
   {
    "duration": 52,
    "start_time": "2022-09-11T12:55:17.330Z"
   },
   {
    "duration": 12,
    "start_time": "2022-09-11T12:55:17.384Z"
   },
   {
    "duration": 32,
    "start_time": "2022-09-11T12:55:17.398Z"
   },
   {
    "duration": 5,
    "start_time": "2022-09-11T12:55:17.433Z"
   },
   {
    "duration": 27,
    "start_time": "2022-09-11T12:55:17.440Z"
   },
   {
    "duration": 26,
    "start_time": "2022-09-11T12:55:17.468Z"
   },
   {
    "duration": 56,
    "start_time": "2022-09-11T12:55:17.495Z"
   },
   {
    "duration": 9,
    "start_time": "2022-09-11T12:55:17.553Z"
   },
   {
    "duration": 3,
    "start_time": "2022-09-11T12:55:17.564Z"
   },
   {
    "duration": 7,
    "start_time": "2022-09-11T12:55:17.569Z"
   },
   {
    "duration": 8,
    "start_time": "2022-09-11T12:55:17.577Z"
   },
   {
    "duration": 230,
    "start_time": "2022-09-11T12:55:17.586Z"
   },
   {
    "duration": 10344,
    "start_time": "2022-09-11T12:55:17.818Z"
   },
   {
    "duration": 53,
    "start_time": "2022-09-11T12:55:28.164Z"
   },
   {
    "duration": 20,
    "start_time": "2022-09-11T12:55:40.022Z"
   },
   {
    "duration": 308,
    "start_time": "2022-09-11T12:58:11.145Z"
   },
   {
    "duration": 339,
    "start_time": "2022-09-11T12:58:38.423Z"
   },
   {
    "duration": 10375,
    "start_time": "2022-09-11T13:00:07.659Z"
   },
   {
    "duration": 10412,
    "start_time": "2022-09-11T13:00:36.997Z"
   },
   {
    "duration": 12,
    "start_time": "2022-09-11T13:10:00.353Z"
   },
   {
    "duration": 47,
    "start_time": "2022-09-11T13:34:57.616Z"
   },
   {
    "duration": 4,
    "start_time": "2022-09-11T13:35:02.079Z"
   },
   {
    "duration": 82,
    "start_time": "2022-09-11T13:35:02.085Z"
   },
   {
    "duration": 12,
    "start_time": "2022-09-11T13:35:02.168Z"
   },
   {
    "duration": 54,
    "start_time": "2022-09-11T13:35:02.181Z"
   },
   {
    "duration": 8,
    "start_time": "2022-09-11T13:35:02.237Z"
   },
   {
    "duration": 28,
    "start_time": "2022-09-11T13:35:02.247Z"
   },
   {
    "duration": 39,
    "start_time": "2022-09-11T13:35:02.276Z"
   },
   {
    "duration": 61,
    "start_time": "2022-09-11T13:35:02.316Z"
   },
   {
    "duration": 9,
    "start_time": "2022-09-11T13:35:02.379Z"
   },
   {
    "duration": 23,
    "start_time": "2022-09-11T13:35:02.389Z"
   },
   {
    "duration": 18,
    "start_time": "2022-09-11T13:35:02.414Z"
   },
   {
    "duration": 25,
    "start_time": "2022-09-11T13:35:02.434Z"
   },
   {
    "duration": 250,
    "start_time": "2022-09-11T13:35:02.461Z"
   },
   {
    "duration": 10666,
    "start_time": "2022-09-11T13:35:02.712Z"
   },
   {
    "duration": 42,
    "start_time": "2022-09-11T13:35:13.380Z"
   },
   {
    "duration": 200,
    "start_time": "2022-09-11T13:35:13.509Z"
   },
   {
    "duration": 454,
    "start_time": "2022-09-11T13:35:13.711Z"
   },
   {
    "duration": 10291,
    "start_time": "2022-09-11T13:35:14.168Z"
   },
   {
    "duration": 11,
    "start_time": "2022-09-11T13:35:24.461Z"
   },
   {
    "duration": 44,
    "start_time": "2022-09-11T13:35:24.474Z"
   },
   {
    "duration": 589,
    "start_time": "2022-09-11T13:35:24.520Z"
   },
   {
    "duration": 14327,
    "start_time": "2022-09-11T13:35:25.111Z"
   },
   {
    "duration": 4,
    "start_time": "2022-09-11T13:35:39.439Z"
   },
   {
    "duration": 66,
    "start_time": "2022-09-11T13:35:39.445Z"
   },
   {
    "duration": 42,
    "start_time": "2022-09-11T13:35:39.513Z"
   },
   {
    "duration": 0,
    "start_time": "2022-09-11T13:35:39.557Z"
   },
   {
    "duration": 65,
    "start_time": "2022-09-11T13:37:00.427Z"
   },
   {
    "duration": 10,
    "start_time": "2022-09-11T13:37:11.659Z"
   },
   {
    "duration": 13,
    "start_time": "2022-09-11T13:37:47.860Z"
   },
   {
    "duration": 4,
    "start_time": "2022-09-11T13:40:27.876Z"
   },
   {
    "duration": 53,
    "start_time": "2022-09-11T13:40:27.883Z"
   },
   {
    "duration": 11,
    "start_time": "2022-09-11T13:40:27.938Z"
   },
   {
    "duration": 58,
    "start_time": "2022-09-11T13:40:27.951Z"
   },
   {
    "duration": 6,
    "start_time": "2022-09-11T13:40:28.011Z"
   },
   {
    "duration": 11,
    "start_time": "2022-09-11T13:40:28.018Z"
   },
   {
    "duration": 26,
    "start_time": "2022-09-11T13:40:28.031Z"
   },
   {
    "duration": 68,
    "start_time": "2022-09-11T13:40:28.058Z"
   },
   {
    "duration": 13,
    "start_time": "2022-09-11T13:40:28.128Z"
   },
   {
    "duration": 9,
    "start_time": "2022-09-11T13:40:28.142Z"
   },
   {
    "duration": 13,
    "start_time": "2022-09-11T13:40:28.155Z"
   },
   {
    "duration": 10,
    "start_time": "2022-09-11T13:40:28.170Z"
   },
   {
    "duration": 221,
    "start_time": "2022-09-11T13:40:28.182Z"
   },
   {
    "duration": 10465,
    "start_time": "2022-09-11T13:40:28.408Z"
   },
   {
    "duration": 133,
    "start_time": "2022-09-11T13:40:38.875Z"
   },
   {
    "duration": 116,
    "start_time": "2022-09-11T13:40:39.010Z"
   },
   {
    "duration": 407,
    "start_time": "2022-09-11T13:40:39.210Z"
   },
   {
    "duration": 10422,
    "start_time": "2022-09-11T13:40:39.620Z"
   },
   {
    "duration": 9,
    "start_time": "2022-09-11T13:40:50.043Z"
   },
   {
    "duration": 65,
    "start_time": "2022-09-11T13:40:50.054Z"
   },
   {
    "duration": 581,
    "start_time": "2022-09-11T13:40:50.121Z"
   },
   {
    "duration": 14516,
    "start_time": "2022-09-11T13:40:50.704Z"
   },
   {
    "duration": 4,
    "start_time": "2022-09-11T13:41:05.221Z"
   },
   {
    "duration": 54,
    "start_time": "2022-09-11T13:41:05.227Z"
   },
   {
    "duration": 11,
    "start_time": "2022-09-11T13:41:05.282Z"
   },
   {
    "duration": 0,
    "start_time": "2022-09-11T13:41:05.294Z"
   },
   {
    "duration": 185,
    "start_time": "2022-09-11T13:43:32.384Z"
   },
   {
    "duration": 145,
    "start_time": "2022-09-11T13:46:03.984Z"
   },
   {
    "duration": 128,
    "start_time": "2022-09-11T13:46:30.939Z"
   },
   {
    "duration": 4,
    "start_time": "2022-09-11T13:46:48.738Z"
   },
   {
    "duration": 58,
    "start_time": "2022-09-11T13:46:48.746Z"
   },
   {
    "duration": 11,
    "start_time": "2022-09-11T13:46:48.805Z"
   },
   {
    "duration": 46,
    "start_time": "2022-09-11T13:46:48.817Z"
   },
   {
    "duration": 5,
    "start_time": "2022-09-11T13:46:48.865Z"
   },
   {
    "duration": 28,
    "start_time": "2022-09-11T13:46:48.871Z"
   },
   {
    "duration": 31,
    "start_time": "2022-09-11T13:46:48.901Z"
   },
   {
    "duration": 38,
    "start_time": "2022-09-11T13:46:48.934Z"
   },
   {
    "duration": 10,
    "start_time": "2022-09-11T13:46:48.974Z"
   },
   {
    "duration": 7,
    "start_time": "2022-09-11T13:46:48.986Z"
   },
   {
    "duration": 5,
    "start_time": "2022-09-11T13:46:49.008Z"
   },
   {
    "duration": 8,
    "start_time": "2022-09-11T13:46:49.014Z"
   },
   {
    "duration": 214,
    "start_time": "2022-09-11T13:46:49.023Z"
   },
   {
    "duration": 10134,
    "start_time": "2022-09-11T13:46:49.238Z"
   },
   {
    "duration": 41,
    "start_time": "2022-09-11T13:46:59.374Z"
   },
   {
    "duration": 195,
    "start_time": "2022-09-11T13:46:59.416Z"
   },
   {
    "duration": 398,
    "start_time": "2022-09-11T13:46:59.617Z"
   },
   {
    "duration": 9979,
    "start_time": "2022-09-11T13:47:00.017Z"
   },
   {
    "duration": 14,
    "start_time": "2022-09-11T13:47:09.997Z"
   },
   {
    "duration": 97,
    "start_time": "2022-09-11T13:47:10.013Z"
   },
   {
    "duration": 500,
    "start_time": "2022-09-11T13:47:10.112Z"
   },
   {
    "duration": 14047,
    "start_time": "2022-09-11T13:47:10.614Z"
   },
   {
    "duration": 4,
    "start_time": "2022-09-11T13:47:24.663Z"
   },
   {
    "duration": 49,
    "start_time": "2022-09-11T13:47:24.669Z"
   },
   {
    "duration": 133,
    "start_time": "2022-09-11T13:47:24.720Z"
   },
   {
    "duration": 31,
    "start_time": "2022-09-11T13:47:24.854Z"
   },
   {
    "duration": 136,
    "start_time": "2022-09-11T13:47:24.887Z"
   },
   {
    "duration": 123,
    "start_time": "2022-09-11T13:50:08.007Z"
   },
   {
    "duration": 6,
    "start_time": "2022-09-11T14:03:15.711Z"
   },
   {
    "duration": 56,
    "start_time": "2022-09-11T14:03:15.719Z"
   },
   {
    "duration": 12,
    "start_time": "2022-09-11T14:03:15.778Z"
   },
   {
    "duration": 43,
    "start_time": "2022-09-11T14:03:15.791Z"
   },
   {
    "duration": 7,
    "start_time": "2022-09-11T14:03:15.836Z"
   },
   {
    "duration": 16,
    "start_time": "2022-09-11T14:03:15.844Z"
   },
   {
    "duration": 53,
    "start_time": "2022-09-11T14:03:15.862Z"
   },
   {
    "duration": 41,
    "start_time": "2022-09-11T14:03:15.917Z"
   },
   {
    "duration": 10,
    "start_time": "2022-09-11T14:03:15.959Z"
   },
   {
    "duration": 22,
    "start_time": "2022-09-11T14:03:15.971Z"
   },
   {
    "duration": 6,
    "start_time": "2022-09-11T14:03:16.015Z"
   },
   {
    "duration": 15,
    "start_time": "2022-09-11T14:03:16.022Z"
   },
   {
    "duration": 230,
    "start_time": "2022-09-11T14:03:16.038Z"
   },
   {
    "duration": 11021,
    "start_time": "2022-09-11T14:03:16.270Z"
   },
   {
    "duration": 118,
    "start_time": "2022-09-11T14:03:27.293Z"
   },
   {
    "duration": 112,
    "start_time": "2022-09-11T14:03:27.419Z"
   },
   {
    "duration": 479,
    "start_time": "2022-09-11T14:03:27.532Z"
   },
   {
    "duration": 11211,
    "start_time": "2022-09-11T14:03:28.012Z"
   },
   {
    "duration": 13,
    "start_time": "2022-09-11T14:03:39.225Z"
   },
   {
    "duration": 84,
    "start_time": "2022-09-11T14:03:39.240Z"
   },
   {
    "duration": 627,
    "start_time": "2022-09-11T14:03:39.326Z"
   },
   {
    "duration": 14978,
    "start_time": "2022-09-11T14:03:39.954Z"
   },
   {
    "duration": 4,
    "start_time": "2022-09-11T14:03:54.934Z"
   },
   {
    "duration": 54,
    "start_time": "2022-09-11T14:03:54.940Z"
   },
   {
    "duration": 197,
    "start_time": "2022-09-11T14:03:54.996Z"
   },
   {
    "duration": 43,
    "start_time": "2022-09-11T14:03:55.194Z"
   },
   {
    "duration": 143,
    "start_time": "2022-09-11T14:03:55.239Z"
   },
   {
    "duration": 46,
    "start_time": "2022-09-11T14:03:55.384Z"
   },
   {
    "duration": 45,
    "start_time": "2022-09-11T14:25:13.666Z"
   },
   {
    "duration": 3,
    "start_time": "2022-09-11T14:29:58.574Z"
   },
   {
    "duration": 51,
    "start_time": "2022-09-11T14:29:58.582Z"
   },
   {
    "duration": 10,
    "start_time": "2022-09-11T14:29:58.634Z"
   },
   {
    "duration": 108,
    "start_time": "2022-09-11T14:29:58.646Z"
   },
   {
    "duration": 5,
    "start_time": "2022-09-11T14:29:58.756Z"
   },
   {
    "duration": 11,
    "start_time": "2022-09-11T14:29:58.762Z"
   },
   {
    "duration": 48,
    "start_time": "2022-09-11T14:29:58.774Z"
   },
   {
    "duration": 45,
    "start_time": "2022-09-11T14:29:58.823Z"
   },
   {
    "duration": 12,
    "start_time": "2022-09-11T14:29:58.869Z"
   },
   {
    "duration": 3,
    "start_time": "2022-09-11T14:29:58.883Z"
   },
   {
    "duration": 5,
    "start_time": "2022-09-11T14:29:58.908Z"
   },
   {
    "duration": 10,
    "start_time": "2022-09-11T14:29:58.915Z"
   },
   {
    "duration": 212,
    "start_time": "2022-09-11T14:29:58.927Z"
   },
   {
    "duration": 9961,
    "start_time": "2022-09-11T14:29:59.140Z"
   },
   {
    "duration": 21,
    "start_time": "2022-09-11T14:30:09.102Z"
   },
   {
    "duration": 192,
    "start_time": "2022-09-11T14:30:09.125Z"
   },
   {
    "duration": 485,
    "start_time": "2022-09-11T14:30:09.319Z"
   },
   {
    "duration": 10015,
    "start_time": "2022-09-11T14:30:09.805Z"
   },
   {
    "duration": 9,
    "start_time": "2022-09-11T14:30:19.821Z"
   },
   {
    "duration": 78,
    "start_time": "2022-09-11T14:30:19.831Z"
   },
   {
    "duration": 477,
    "start_time": "2022-09-11T14:30:19.912Z"
   },
   {
    "duration": 13658,
    "start_time": "2022-09-11T14:30:20.391Z"
   },
   {
    "duration": 4,
    "start_time": "2022-09-11T14:30:34.051Z"
   },
   {
    "duration": 70,
    "start_time": "2022-09-11T14:30:34.056Z"
   },
   {
    "duration": 142,
    "start_time": "2022-09-11T14:30:34.128Z"
   },
   {
    "duration": 30,
    "start_time": "2022-09-11T14:30:34.272Z"
   },
   {
    "duration": 127,
    "start_time": "2022-09-11T14:30:34.309Z"
   },
   {
    "duration": 51,
    "start_time": "2022-09-12T09:45:08.786Z"
   },
   {
    "duration": 1543,
    "start_time": "2022-09-12T09:46:38.618Z"
   },
   {
    "duration": 188,
    "start_time": "2022-09-12T09:46:40.163Z"
   },
   {
    "duration": 13,
    "start_time": "2022-09-12T09:46:40.353Z"
   },
   {
    "duration": 34,
    "start_time": "2022-09-12T09:46:40.367Z"
   },
   {
    "duration": 5,
    "start_time": "2022-09-12T09:46:40.403Z"
   },
   {
    "duration": 10,
    "start_time": "2022-09-12T09:46:40.410Z"
   },
   {
    "duration": 22,
    "start_time": "2022-09-12T09:46:40.421Z"
   },
   {
    "duration": 9,
    "start_time": "2022-09-12T09:46:40.445Z"
   },
   {
    "duration": 2,
    "start_time": "2022-09-12T09:46:40.456Z"
   },
   {
    "duration": 6,
    "start_time": "2022-09-12T09:46:40.459Z"
   },
   {
    "duration": 7,
    "start_time": "2022-09-12T09:46:40.466Z"
   },
   {
    "duration": 52,
    "start_time": "2022-09-12T09:46:40.475Z"
   },
   {
    "duration": 4,
    "start_time": "2022-09-12T09:46:40.528Z"
   },
   {
    "duration": 158,
    "start_time": "2022-09-12T09:46:40.534Z"
   },
   {
    "duration": 8471,
    "start_time": "2022-09-12T09:46:40.694Z"
   },
   {
    "duration": 44,
    "start_time": "2022-09-12T09:46:49.166Z"
   },
   {
    "duration": 102,
    "start_time": "2022-09-12T09:46:49.213Z"
   },
   {
    "duration": 409,
    "start_time": "2022-09-12T09:46:49.317Z"
   },
   {
    "duration": 8704,
    "start_time": "2022-09-12T09:46:49.727Z"
   },
   {
    "duration": 81,
    "start_time": "2022-09-12T09:46:58.432Z"
   },
   {
    "duration": 0,
    "start_time": "2022-09-12T09:46:58.514Z"
   },
   {
    "duration": 0,
    "start_time": "2022-09-12T09:46:58.515Z"
   },
   {
    "duration": 0,
    "start_time": "2022-09-12T09:46:58.516Z"
   },
   {
    "duration": 0,
    "start_time": "2022-09-12T09:46:58.517Z"
   },
   {
    "duration": 0,
    "start_time": "2022-09-12T09:46:58.518Z"
   },
   {
    "duration": 0,
    "start_time": "2022-09-12T09:46:58.520Z"
   },
   {
    "duration": 0,
    "start_time": "2022-09-12T09:46:58.520Z"
   },
   {
    "duration": 19,
    "start_time": "2022-09-12T09:48:56.619Z"
   },
   {
    "duration": 4,
    "start_time": "2022-09-12T09:49:01.472Z"
   },
   {
    "duration": 58,
    "start_time": "2022-09-12T09:49:01.480Z"
   },
   {
    "duration": 11,
    "start_time": "2022-09-12T09:49:01.539Z"
   },
   {
    "duration": 48,
    "start_time": "2022-09-12T09:49:01.551Z"
   },
   {
    "duration": 8,
    "start_time": "2022-09-12T09:49:01.600Z"
   },
   {
    "duration": 13,
    "start_time": "2022-09-12T09:49:01.609Z"
   },
   {
    "duration": 32,
    "start_time": "2022-09-12T09:49:01.623Z"
   },
   {
    "duration": 11,
    "start_time": "2022-09-12T09:49:01.656Z"
   },
   {
    "duration": 5,
    "start_time": "2022-09-12T09:49:01.668Z"
   },
   {
    "duration": 21,
    "start_time": "2022-09-12T09:49:01.674Z"
   },
   {
    "duration": 4,
    "start_time": "2022-09-12T09:49:01.705Z"
   },
   {
    "duration": 29,
    "start_time": "2022-09-12T09:49:01.710Z"
   },
   {
    "duration": 3,
    "start_time": "2022-09-12T09:49:01.741Z"
   },
   {
    "duration": 177,
    "start_time": "2022-09-12T09:49:01.746Z"
   },
   {
    "duration": 8892,
    "start_time": "2022-09-12T09:49:01.924Z"
   },
   {
    "duration": 18,
    "start_time": "2022-09-12T09:49:10.817Z"
   },
   {
    "duration": 175,
    "start_time": "2022-09-12T09:49:10.837Z"
   },
   {
    "duration": 396,
    "start_time": "2022-09-12T09:49:11.014Z"
   },
   {
    "duration": 8751,
    "start_time": "2022-09-12T09:49:11.412Z"
   },
   {
    "duration": 16,
    "start_time": "2022-09-12T09:49:20.165Z"
   },
   {
    "duration": 0,
    "start_time": "2022-09-12T09:49:20.182Z"
   },
   {
    "duration": 0,
    "start_time": "2022-09-12T09:49:20.183Z"
   },
   {
    "duration": 0,
    "start_time": "2022-09-12T09:49:20.184Z"
   },
   {
    "duration": 0,
    "start_time": "2022-09-12T09:49:20.185Z"
   },
   {
    "duration": 0,
    "start_time": "2022-09-12T09:49:20.205Z"
   },
   {
    "duration": 0,
    "start_time": "2022-09-12T09:49:20.206Z"
   },
   {
    "duration": 0,
    "start_time": "2022-09-12T09:49:20.207Z"
   },
   {
    "duration": 75,
    "start_time": "2022-09-12T09:49:53.760Z"
   },
   {
    "duration": 79,
    "start_time": "2022-09-12T09:51:32.782Z"
   },
   {
    "duration": 19,
    "start_time": "2022-09-12T09:52:16.644Z"
   },
   {
    "duration": 3,
    "start_time": "2022-09-12T09:52:24.022Z"
   },
   {
    "duration": 88,
    "start_time": "2022-09-12T09:52:24.027Z"
   },
   {
    "duration": 10,
    "start_time": "2022-09-12T09:52:24.117Z"
   },
   {
    "duration": 36,
    "start_time": "2022-09-12T09:52:24.129Z"
   },
   {
    "duration": 5,
    "start_time": "2022-09-12T09:52:24.167Z"
   },
   {
    "duration": 33,
    "start_time": "2022-09-12T09:52:24.173Z"
   },
   {
    "duration": 20,
    "start_time": "2022-09-12T09:52:24.207Z"
   },
   {
    "duration": 9,
    "start_time": "2022-09-12T09:52:24.229Z"
   },
   {
    "duration": 3,
    "start_time": "2022-09-12T09:52:24.239Z"
   },
   {
    "duration": 7,
    "start_time": "2022-09-12T09:52:24.243Z"
   },
   {
    "duration": 11,
    "start_time": "2022-09-12T09:52:24.252Z"
   },
   {
    "duration": 4,
    "start_time": "2022-09-12T09:52:27.022Z"
   },
   {
    "duration": 24,
    "start_time": "2022-09-12T09:52:27.724Z"
   },
   {
    "duration": 6,
    "start_time": "2022-09-12T09:53:16.861Z"
   },
   {
    "duration": 5,
    "start_time": "2022-09-12T09:53:23.447Z"
   },
   {
    "duration": 3,
    "start_time": "2022-09-12T09:56:06.424Z"
   },
   {
    "duration": 52,
    "start_time": "2022-09-12T09:56:06.429Z"
   },
   {
    "duration": 10,
    "start_time": "2022-09-12T09:56:06.482Z"
   },
   {
    "duration": 47,
    "start_time": "2022-09-12T09:56:06.494Z"
   },
   {
    "duration": 4,
    "start_time": "2022-09-12T09:56:06.543Z"
   },
   {
    "duration": 12,
    "start_time": "2022-09-12T09:56:06.549Z"
   },
   {
    "duration": 20,
    "start_time": "2022-09-12T09:56:06.563Z"
   },
   {
    "duration": 30,
    "start_time": "2022-09-12T09:56:06.584Z"
   },
   {
    "duration": 3,
    "start_time": "2022-09-12T09:56:06.622Z"
   },
   {
    "duration": 9,
    "start_time": "2022-09-12T09:56:06.627Z"
   },
   {
    "duration": 9,
    "start_time": "2022-09-12T09:56:06.638Z"
   },
   {
    "duration": 17,
    "start_time": "2022-09-12T09:56:06.649Z"
   },
   {
    "duration": 4,
    "start_time": "2022-09-12T09:56:06.668Z"
   },
   {
    "duration": 182,
    "start_time": "2022-09-12T09:56:06.674Z"
   },
   {
    "duration": 9276,
    "start_time": "2022-09-12T09:56:06.857Z"
   },
   {
    "duration": 82,
    "start_time": "2022-09-12T09:56:16.135Z"
   },
   {
    "duration": 206,
    "start_time": "2022-09-12T09:56:16.219Z"
   },
   {
    "duration": 421,
    "start_time": "2022-09-12T09:56:16.427Z"
   },
   {
    "duration": 9546,
    "start_time": "2022-09-12T09:56:16.849Z"
   },
   {
    "duration": 34,
    "start_time": "2022-09-12T09:56:26.396Z"
   },
   {
    "duration": 0,
    "start_time": "2022-09-12T09:56:26.431Z"
   },
   {
    "duration": 0,
    "start_time": "2022-09-12T09:56:26.433Z"
   },
   {
    "duration": 0,
    "start_time": "2022-09-12T09:56:26.434Z"
   },
   {
    "duration": 0,
    "start_time": "2022-09-12T09:56:26.435Z"
   },
   {
    "duration": 0,
    "start_time": "2022-09-12T09:56:26.436Z"
   },
   {
    "duration": 0,
    "start_time": "2022-09-12T09:56:26.437Z"
   },
   {
    "duration": 0,
    "start_time": "2022-09-12T09:56:26.438Z"
   },
   {
    "duration": 6,
    "start_time": "2022-09-12T10:00:45.454Z"
   },
   {
    "duration": 8,
    "start_time": "2022-09-12T10:01:07.995Z"
   },
   {
    "duration": 7,
    "start_time": "2022-09-12T10:01:24.561Z"
   },
   {
    "duration": 5,
    "start_time": "2022-09-12T10:01:35.962Z"
   },
   {
    "duration": 8,
    "start_time": "2022-09-12T10:03:22.020Z"
   },
   {
    "duration": 4,
    "start_time": "2022-09-12T10:07:16.507Z"
   },
   {
    "duration": 51,
    "start_time": "2022-09-12T10:07:16.512Z"
   },
   {
    "duration": 12,
    "start_time": "2022-09-12T10:07:16.564Z"
   },
   {
    "duration": 46,
    "start_time": "2022-09-12T10:07:16.578Z"
   },
   {
    "duration": 4,
    "start_time": "2022-09-12T10:07:16.626Z"
   },
   {
    "duration": 11,
    "start_time": "2022-09-12T10:07:16.632Z"
   },
   {
    "duration": 20,
    "start_time": "2022-09-12T10:07:16.645Z"
   },
   {
    "duration": 10,
    "start_time": "2022-09-12T10:07:16.666Z"
   },
   {
    "duration": 4,
    "start_time": "2022-09-12T10:07:16.677Z"
   },
   {
    "duration": 6,
    "start_time": "2022-09-12T10:07:16.705Z"
   },
   {
    "duration": 9,
    "start_time": "2022-09-12T10:07:16.713Z"
   },
   {
    "duration": 19,
    "start_time": "2022-09-12T10:07:18.561Z"
   },
   {
    "duration": 71,
    "start_time": "2022-09-12T10:08:43.462Z"
   },
   {
    "duration": 5,
    "start_time": "2022-09-12T10:08:53.658Z"
   },
   {
    "duration": 62,
    "start_time": "2022-09-12T10:08:53.665Z"
   },
   {
    "duration": 15,
    "start_time": "2022-09-12T10:08:53.729Z"
   },
   {
    "duration": 64,
    "start_time": "2022-09-12T10:08:53.746Z"
   },
   {
    "duration": 6,
    "start_time": "2022-09-12T10:08:53.812Z"
   },
   {
    "duration": 18,
    "start_time": "2022-09-12T10:08:53.820Z"
   },
   {
    "duration": 22,
    "start_time": "2022-09-12T10:08:53.840Z"
   },
   {
    "duration": 9,
    "start_time": "2022-09-12T10:08:53.863Z"
   },
   {
    "duration": 3,
    "start_time": "2022-09-12T10:08:53.874Z"
   },
   {
    "duration": 8,
    "start_time": "2022-09-12T10:08:53.905Z"
   },
   {
    "duration": 7,
    "start_time": "2022-09-12T10:08:53.915Z"
   },
   {
    "duration": 48,
    "start_time": "2022-09-12T10:08:53.924Z"
   },
   {
    "duration": 5,
    "start_time": "2022-09-12T10:08:53.974Z"
   },
   {
    "duration": 195,
    "start_time": "2022-09-12T10:08:53.982Z"
   },
   {
    "duration": 9032,
    "start_time": "2022-09-12T10:08:54.179Z"
   },
   {
    "duration": 206,
    "start_time": "2022-09-12T10:09:03.213Z"
   },
   {
    "duration": 104,
    "start_time": "2022-09-12T10:09:03.505Z"
   },
   {
    "duration": 372,
    "start_time": "2022-09-12T10:09:03.611Z"
   },
   {
    "duration": 9742,
    "start_time": "2022-09-12T10:09:03.985Z"
   },
   {
    "duration": 9,
    "start_time": "2022-09-12T10:09:13.730Z"
   },
   {
    "duration": 165,
    "start_time": "2022-09-12T10:09:13.741Z"
   },
   {
    "duration": 450,
    "start_time": "2022-09-12T10:09:13.908Z"
   },
   {
    "duration": 12746,
    "start_time": "2022-09-12T10:09:14.359Z"
   },
   {
    "duration": 47,
    "start_time": "2022-09-12T10:09:27.107Z"
   },
   {
    "duration": 142,
    "start_time": "2022-09-12T10:09:27.156Z"
   },
   {
    "duration": 60,
    "start_time": "2022-09-12T10:09:27.300Z"
   },
   {
    "duration": 167,
    "start_time": "2022-09-12T10:09:27.362Z"
   },
   {
    "duration": 14,
    "start_time": "2022-09-12T10:09:41.060Z"
   },
   {
    "duration": 5,
    "start_time": "2022-09-12T10:27:24.475Z"
   },
   {
    "duration": 55,
    "start_time": "2022-09-12T10:27:24.481Z"
   },
   {
    "duration": 16,
    "start_time": "2022-09-12T10:27:24.538Z"
   },
   {
    "duration": 103,
    "start_time": "2022-09-12T10:27:24.555Z"
   },
   {
    "duration": 5,
    "start_time": "2022-09-12T10:27:24.661Z"
   },
   {
    "duration": 13,
    "start_time": "2022-09-12T10:27:24.668Z"
   },
   {
    "duration": 38,
    "start_time": "2022-09-12T10:27:24.683Z"
   },
   {
    "duration": 9,
    "start_time": "2022-09-12T10:27:24.723Z"
   },
   {
    "duration": 4,
    "start_time": "2022-09-12T10:27:24.733Z"
   },
   {
    "duration": 7,
    "start_time": "2022-09-12T10:27:24.739Z"
   },
   {
    "duration": 7,
    "start_time": "2022-09-12T10:27:24.750Z"
   },
   {
    "duration": 50,
    "start_time": "2022-09-12T10:27:24.759Z"
   },
   {
    "duration": 3,
    "start_time": "2022-09-12T10:27:24.811Z"
   },
   {
    "duration": 197,
    "start_time": "2022-09-12T10:27:24.816Z"
   },
   {
    "duration": 8893,
    "start_time": "2022-09-12T10:27:25.015Z"
   },
   {
    "duration": 85,
    "start_time": "2022-09-12T10:27:33.909Z"
   },
   {
    "duration": 0,
    "start_time": "2022-09-12T10:27:33.995Z"
   },
   {
    "duration": 0,
    "start_time": "2022-09-12T10:27:33.996Z"
   },
   {
    "duration": 0,
    "start_time": "2022-09-12T10:27:33.997Z"
   },
   {
    "duration": 0,
    "start_time": "2022-09-12T10:27:33.998Z"
   },
   {
    "duration": 0,
    "start_time": "2022-09-12T10:27:33.999Z"
   },
   {
    "duration": 0,
    "start_time": "2022-09-12T10:27:34.000Z"
   },
   {
    "duration": 0,
    "start_time": "2022-09-12T10:27:34.002Z"
   },
   {
    "duration": 0,
    "start_time": "2022-09-12T10:27:34.002Z"
   },
   {
    "duration": 0,
    "start_time": "2022-09-12T10:27:34.003Z"
   },
   {
    "duration": 0,
    "start_time": "2022-09-12T10:27:34.005Z"
   },
   {
    "duration": 0,
    "start_time": "2022-09-12T10:27:34.006Z"
   },
   {
    "duration": 27,
    "start_time": "2022-09-12T10:29:51.478Z"
   },
   {
    "duration": 203,
    "start_time": "2022-09-12T10:29:59.302Z"
   },
   {
    "duration": 286,
    "start_time": "2022-09-12T10:29:59.507Z"
   },
   {
    "duration": 8906,
    "start_time": "2022-09-12T10:29:59.794Z"
   },
   {
    "duration": 8,
    "start_time": "2022-09-12T10:30:08.705Z"
   },
   {
    "duration": 32,
    "start_time": "2022-09-12T10:30:08.715Z"
   },
   {
    "duration": 411,
    "start_time": "2022-09-12T10:30:08.806Z"
   },
   {
    "duration": 11907,
    "start_time": "2022-09-12T10:30:09.218Z"
   },
   {
    "duration": 40,
    "start_time": "2022-09-12T10:30:21.126Z"
   },
   {
    "duration": 146,
    "start_time": "2022-09-12T10:30:21.168Z"
   },
   {
    "duration": 61,
    "start_time": "2022-09-12T10:30:21.317Z"
   },
   {
    "duration": 154,
    "start_time": "2022-09-12T10:30:21.380Z"
   },
   {
    "duration": 1889,
    "start_time": "2023-04-10T19:11:34.114Z"
   },
   {
    "duration": 197,
    "start_time": "2023-04-10T19:11:36.005Z"
   },
   {
    "duration": 13,
    "start_time": "2023-04-10T19:11:36.204Z"
   },
   {
    "duration": 41,
    "start_time": "2023-04-10T19:11:36.219Z"
   },
   {
    "duration": 6,
    "start_time": "2023-04-10T19:11:36.262Z"
   },
   {
    "duration": 18,
    "start_time": "2023-04-10T19:11:36.270Z"
   },
   {
    "duration": 29,
    "start_time": "2023-04-10T19:11:36.290Z"
   },
   {
    "duration": 14,
    "start_time": "2023-04-10T19:11:36.340Z"
   },
   {
    "duration": 5,
    "start_time": "2023-04-10T19:11:36.356Z"
   },
   {
    "duration": 25,
    "start_time": "2023-04-10T19:11:36.364Z"
   },
   {
    "duration": 6,
    "start_time": "2023-04-10T19:11:36.391Z"
   },
   {
    "duration": 48,
    "start_time": "2023-04-10T19:11:36.399Z"
   },
   {
    "duration": 5,
    "start_time": "2023-04-10T19:11:36.449Z"
   },
   {
    "duration": 215,
    "start_time": "2023-04-10T19:11:36.456Z"
   },
   {
    "duration": 9925,
    "start_time": "2023-04-10T19:11:36.673Z"
   },
   {
    "duration": 55,
    "start_time": "2023-04-10T19:11:46.600Z"
   },
   {
    "duration": 120,
    "start_time": "2023-04-10T19:11:46.742Z"
   },
   {
    "duration": 487,
    "start_time": "2023-04-10T19:11:46.864Z"
   },
   {
    "duration": 10355,
    "start_time": "2023-04-10T19:11:47.353Z"
   },
   {
    "duration": 11,
    "start_time": "2023-04-10T19:11:57.710Z"
   },
   {
    "duration": 36,
    "start_time": "2023-04-10T19:11:57.722Z"
   },
   {
    "duration": 524,
    "start_time": "2023-04-10T19:11:57.759Z"
   },
   {
    "duration": 13594,
    "start_time": "2023-04-10T19:11:58.285Z"
   },
   {
    "duration": 61,
    "start_time": "2023-04-10T19:12:11.881Z"
   },
   {
    "duration": 158,
    "start_time": "2023-04-10T19:12:11.944Z"
   },
   {
    "duration": 63,
    "start_time": "2023-04-10T19:12:12.104Z"
   },
   {
    "duration": 154,
    "start_time": "2023-04-10T19:12:12.168Z"
   },
   {
    "duration": 4,
    "start_time": "2023-04-10T19:24:26.839Z"
   },
   {
    "duration": 55,
    "start_time": "2023-04-10T19:24:26.846Z"
   },
   {
    "duration": 17,
    "start_time": "2023-04-10T19:24:26.904Z"
   },
   {
    "duration": 72,
    "start_time": "2023-04-10T19:24:26.923Z"
   },
   {
    "duration": 6,
    "start_time": "2023-04-10T19:24:26.998Z"
   },
   {
    "duration": 26,
    "start_time": "2023-04-10T19:24:27.006Z"
   },
   {
    "duration": 34,
    "start_time": "2023-04-10T19:24:27.034Z"
   },
   {
    "duration": 13,
    "start_time": "2023-04-10T19:24:27.070Z"
   },
   {
    "duration": 14,
    "start_time": "2023-04-10T19:24:27.084Z"
   },
   {
    "duration": 26,
    "start_time": "2023-04-10T19:24:27.100Z"
   },
   {
    "duration": 23,
    "start_time": "2023-04-10T19:24:27.127Z"
   },
   {
    "duration": 44,
    "start_time": "2023-04-10T19:24:27.151Z"
   },
   {
    "duration": 4,
    "start_time": "2023-04-10T19:24:27.197Z"
   },
   {
    "duration": 202,
    "start_time": "2023-04-10T19:24:27.205Z"
   },
   {
    "duration": 10115,
    "start_time": "2023-04-10T19:24:27.409Z"
   },
   {
    "duration": 119,
    "start_time": "2023-04-10T19:24:37.526Z"
   },
   {
    "duration": 125,
    "start_time": "2023-04-10T19:24:37.647Z"
   },
   {
    "duration": 384,
    "start_time": "2023-04-10T19:24:37.842Z"
   },
   {
    "duration": 10449,
    "start_time": "2023-04-10T19:24:38.229Z"
   },
   {
    "duration": 11,
    "start_time": "2023-04-10T19:24:48.680Z"
   },
   {
    "duration": 55,
    "start_time": "2023-04-10T19:24:48.692Z"
   },
   {
    "duration": 580,
    "start_time": "2023-04-10T19:24:48.749Z"
   },
   {
    "duration": 14316,
    "start_time": "2023-04-10T19:24:49.331Z"
   },
   {
    "duration": 57,
    "start_time": "2023-04-10T19:25:03.649Z"
   },
   {
    "duration": 253,
    "start_time": "2023-04-10T19:25:03.708Z"
   },
   {
    "duration": 53,
    "start_time": "2023-04-10T19:25:03.963Z"
   },
   {
    "duration": 159,
    "start_time": "2023-04-10T19:25:04.018Z"
   },
   {
    "duration": 5,
    "start_time": "2023-04-10T19:26:55.853Z"
   },
   {
    "duration": 89,
    "start_time": "2023-04-10T19:26:55.861Z"
   },
   {
    "duration": 43,
    "start_time": "2023-04-10T19:26:55.952Z"
   },
   {
    "duration": 79,
    "start_time": "2023-04-10T19:26:55.998Z"
   },
   {
    "duration": 11,
    "start_time": "2023-04-10T19:26:56.080Z"
   },
   {
    "duration": 36,
    "start_time": "2023-04-10T19:26:56.093Z"
   },
   {
    "duration": 69,
    "start_time": "2023-04-10T19:26:56.131Z"
   },
   {
    "duration": 18,
    "start_time": "2023-04-10T19:26:56.203Z"
   },
   {
    "duration": 5,
    "start_time": "2023-04-10T19:26:56.223Z"
   },
   {
    "duration": 10,
    "start_time": "2023-04-10T19:26:56.232Z"
   },
   {
    "duration": 13,
    "start_time": "2023-04-10T19:26:56.244Z"
   },
   {
    "duration": 44,
    "start_time": "2023-04-10T19:26:56.259Z"
   },
   {
    "duration": 4,
    "start_time": "2023-04-10T19:26:56.305Z"
   },
   {
    "duration": 221,
    "start_time": "2023-04-10T19:26:56.311Z"
   },
   {
    "duration": 10249,
    "start_time": "2023-04-10T19:26:56.534Z"
   },
   {
    "duration": 256,
    "start_time": "2023-04-10T19:27:06.785Z"
   },
   {
    "duration": 104,
    "start_time": "2023-04-10T19:27:07.044Z"
   },
   {
    "duration": 447,
    "start_time": "2023-04-10T19:27:07.150Z"
   },
   {
    "duration": 10099,
    "start_time": "2023-04-10T19:27:07.599Z"
   },
   {
    "duration": 11,
    "start_time": "2023-04-10T19:27:17.699Z"
   },
   {
    "duration": 131,
    "start_time": "2023-04-10T19:27:17.712Z"
   },
   {
    "duration": 437,
    "start_time": "2023-04-10T19:27:17.845Z"
   },
   {
    "duration": 14111,
    "start_time": "2023-04-10T19:27:18.284Z"
   },
   {
    "duration": 92,
    "start_time": "2023-04-10T19:27:32.396Z"
   },
   {
    "duration": 153,
    "start_time": "2023-04-10T19:27:32.489Z"
   },
   {
    "duration": 55,
    "start_time": "2023-04-10T19:27:32.644Z"
   },
   {
    "duration": 160,
    "start_time": "2023-04-10T19:27:32.701Z"
   }
  ],
  "kernelspec": {
   "display_name": "Python 3 (ipykernel)",
   "language": "python",
   "name": "python3"
  },
  "language_info": {
   "codemirror_mode": {
    "name": "ipython",
    "version": 3
   },
   "file_extension": ".py",
   "mimetype": "text/x-python",
   "name": "python",
   "nbconvert_exporter": "python",
   "pygments_lexer": "ipython3",
   "version": "3.9.16"
  },
  "toc": {
   "base_numbering": 1,
   "nav_menu": {},
   "number_sections": true,
   "sideBar": true,
   "skip_h1_title": true,
   "title_cell": "Содержание",
   "title_sidebar": "Contents",
   "toc_cell": true,
   "toc_position": {},
   "toc_section_display": true,
   "toc_window_display": false
  }
 },
 "nbformat": 4,
 "nbformat_minor": 2
}
